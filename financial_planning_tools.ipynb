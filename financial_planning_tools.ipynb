{
 "cells": [
  {
   "cell_type": "markdown",
   "metadata": {},
   "source": [
    "# Financial Planning with APIs and Simulations\n",
    "\n",
    "In this Challenge, you’ll create two financial analysis tools by using a single Jupyter notebook:\n",
    "\n",
    "Part 1: A financial planner for emergencies. The members will be able to use this tool to visualize their current savings. The members can then determine if they have enough reserves for an emergency fund.\n",
    "\n",
    "Part 2: A financial planner for retirement. This tool will forecast the performance of their retirement portfolio in 30 years. To do this, the tool will make an Alpaca API call via the Alpaca SDK to get historical price data for use in Monte Carlo simulations.\n",
    "\n",
    "You’ll use the information from the Monte Carlo simulation to answer questions about the portfolio in your Jupyter notebook.\n",
    "\n"
   ]
  },
  {
   "cell_type": "code",
   "execution_count": 1,
   "metadata": {},
   "outputs": [
    {
     "name": "stdout",
     "output_type": "stream",
     "text": [
      "Requirement already satisfied: python-dotenv in /Users/nataliaburrey/opt/anaconda3/lib/python3.8/site-packages (0.17.0)\n"
     ]
    }
   ],
   "source": [
    "!pip install python-dotenv"
   ]
  },
  {
   "cell_type": "code",
   "execution_count": 2,
   "metadata": {},
   "outputs": [],
   "source": [
    "# Import the required libraries and dependencies\n",
    "import os\n",
    "import requests\n",
    "import json\n",
    "import pandas as pd\n",
    "from dotenv import load_dotenv\n",
    "import alpaca_trade_api as tradeapi\n",
    "from MCForecastTools import MCSimulation\n",
    "\n",
    "%matplotlib inline"
   ]
  },
  {
   "cell_type": "code",
   "execution_count": 3,
   "metadata": {},
   "outputs": [
    {
     "data": {
      "text/plain": [
       "True"
      ]
     },
     "execution_count": 3,
     "metadata": {},
     "output_type": "execute_result"
    }
   ],
   "source": [
    "# Load the environment variables from the .env file\n",
    "#by calling the load_dotenv function\n",
    "load_dotenv()"
   ]
  },
  {
   "cell_type": "markdown",
   "metadata": {},
   "source": [
    "## Part 1: Create a Financial Planner for Emergencies"
   ]
  },
  {
   "cell_type": "markdown",
   "metadata": {},
   "source": [
    "### Evaluate the Cryptocurrency Wallet by Using the Requests Library\n",
    "\n",
    "In this section, you’ll determine the current value of a member’s cryptocurrency wallet. You’ll collect the current prices for the Bitcoin and Ethereum cryptocurrencies by using the Python Requests library. For the prototype, you’ll assume that the member holds the 1.2 Bitcoins (BTC) and 5.3 Ethereum coins (ETH). To do all this, complete the following steps:\n",
    "\n",
    "1. Create a variable named `monthly_income`, and set its value to `12000`.\n",
    "\n",
    "2. Use the Requests library to get the current price (in US dollars) of Bitcoin (BTC) and Ethereum (ETH) by using the API endpoints that the starter code supplies.\n",
    "\n",
    "3. Navigate the JSON response object to access the current price of each coin, and store each in a variable.\n",
    "\n",
    "    > **Hint** Note the specific identifier for each cryptocurrency in the API JSON response. The Bitcoin identifier is `1`, and the Ethereum identifier is `1027`.\n",
    "\n",
    "4. Calculate the value, in US dollars, of the current amount of each cryptocurrency and of the entire cryptocurrency wallet.\n",
    "\n"
   ]
  },
  {
   "cell_type": "code",
   "execution_count": 4,
   "metadata": {},
   "outputs": [],
   "source": [
    "# The current number of coins for each cryptocurrency asset held in the portfolio.\n",
    "btc_coins = 1.2\n",
    "eth_coins = 5.3"
   ]
  },
  {
   "cell_type": "markdown",
   "metadata": {},
   "source": [
    "#### Step 1: Create a variable named `monthly_income`, and set its value to `12000`."
   ]
  },
  {
   "cell_type": "code",
   "execution_count": 5,
   "metadata": {},
   "outputs": [],
   "source": [
    "# The monthly amount for the member's household income\n",
    "# YOUR CODE HERE\n",
    "monthly_income=12000"
   ]
  },
  {
   "cell_type": "markdown",
   "metadata": {},
   "source": [
    "#### Review the endpoint URLs for the API calls to Free Crypto API in order to get the current pricing information for both BTC and ETH."
   ]
  },
  {
   "cell_type": "code",
   "execution_count": 6,
   "metadata": {},
   "outputs": [],
   "source": [
    "# The Free Crypto API Call endpoint URLs for the held cryptocurrency assets\n",
    "btc_url = \"https://api.alternative.me/v2/ticker/Bitcoin/?convert=USD\"\n",
    "eth_url = \"https://api.alternative.me/v2/ticker/Ethereum/?convert=USD\""
   ]
  },
  {
   "cell_type": "markdown",
   "metadata": {},
   "source": [
    "#### Step 2. Use the Requests library to get the current price (in US dollars) of Bitcoin (BTC) and Ethereum (ETH) by using the API endpoints that the starter code supplied."
   ]
  },
  {
   "cell_type": "code",
   "execution_count": 7,
   "metadata": {},
   "outputs": [
    {
     "name": "stdout",
     "output_type": "stream",
     "text": [
      "{\n",
      "    \"data\": {\n",
      "        \"1\": {\n",
      "            \"circulating_supply\": 18691956,\n",
      "            \"id\": 1,\n",
      "            \"last_updated\": 1619458403,\n",
      "            \"max_supply\": 21000000,\n",
      "            \"name\": \"Bitcoin\",\n",
      "            \"quotes\": {\n",
      "                \"USD\": {\n",
      "                    \"market_cap\": 1016279469057,\n",
      "                    \"percent_change_1h\": 2.14482497811689,\n",
      "                    \"percent_change_24h\": 8.93242021657663,\n",
      "                    \"percent_change_7d\": -3.37543568871981,\n",
      "                    \"percentage_change_1h\": 2.14482497811689,\n",
      "                    \"percentage_change_24h\": 8.93242021657663,\n",
      "                    \"percentage_change_7d\": -3.37543568871981,\n",
      "                    \"price\": 54389.0,\n",
      "                    \"volume_24h\": 65694198445\n",
      "                }\n",
      "            },\n",
      "            \"rank\": 1,\n",
      "            \"symbol\": \"BTC\",\n",
      "            \"total_supply\": 18691956,\n",
      "            \"website_slug\": \"bitcoin\"\n",
      "        }\n",
      "    },\n",
      "    \"metadata\": {\n",
      "        \"error\": null,\n",
      "        \"num_cryptocurrencies\": 1311,\n",
      "        \"timestamp\": 1619458403\n",
      "    }\n",
      "}\n"
     ]
    }
   ],
   "source": [
    "# Using the Python requests library, make an API call to access the current price of BTC\n",
    "btc_response = requests.get(btc_url ).json()\n",
    "\n",
    "# Use the json.dumps function to review the response data from the API call\n",
    "# Use the indent and sort_keys parameters to make the response object readable\n",
    "\n",
    "\n",
    "print(json.dumps(btc_response, indent=4, sort_keys=True))"
   ]
  },
  {
   "cell_type": "code",
   "execution_count": 8,
   "metadata": {},
   "outputs": [
    {
     "name": "stdout",
     "output_type": "stream",
     "text": [
      "{\n",
      "    \"data\": {\n",
      "        \"1027\": {\n",
      "            \"circulating_supply\": 115630102,\n",
      "            \"id\": 1027,\n",
      "            \"last_updated\": 1619458443,\n",
      "            \"max_supply\": 0,\n",
      "            \"name\": \"Ethereum\",\n",
      "            \"quotes\": {\n",
      "                \"USD\": {\n",
      "                    \"market_cap\": 293054585188,\n",
      "                    \"percent_change_1h\": 2.07016492564886,\n",
      "                    \"percent_change_24h\": 8.51819006907888,\n",
      "                    \"percent_change_7d\": 12.6328192069867,\n",
      "                    \"percentage_change_1h\": 2.07016492564886,\n",
      "                    \"percentage_change_24h\": 8.51819006907888,\n",
      "                    \"percentage_change_7d\": 12.6328192069867,\n",
      "                    \"price\": 2529.46,\n",
      "                    \"volume_24h\": 46421783404\n",
      "                }\n",
      "            },\n",
      "            \"rank\": 2,\n",
      "            \"symbol\": \"ETH\",\n",
      "            \"total_supply\": 115630102,\n",
      "            \"website_slug\": \"ethereum\"\n",
      "        }\n",
      "    },\n",
      "    \"metadata\": {\n",
      "        \"error\": null,\n",
      "        \"num_cryptocurrencies\": 1311,\n",
      "        \"timestamp\": 1619458443\n",
      "    }\n",
      "}\n"
     ]
    }
   ],
   "source": [
    "# Using the Python requests library, make an API call to access the current price ETH\n",
    "eth_response = requests.get(eth_url ).json()\n",
    "\n",
    "# Use the json.dumps function to review the response data from the API call\n",
    "# Use the indent and sort_keys parameters to make the response object readable\n",
    "print(json.dumps(eth_response, indent=4, sort_keys=True))\n"
   ]
  },
  {
   "cell_type": "markdown",
   "metadata": {},
   "source": [
    "#### Step 3: Navigate the JSON response object to access the current price of each coin, and store each in a variable."
   ]
  },
  {
   "cell_type": "code",
   "execution_count": 9,
   "metadata": {},
   "outputs": [
    {
     "name": "stdout",
     "output_type": "stream",
     "text": [
      "The symbol for Bitcoin is BTC\n",
      "The price for Bitcoin is $54389.0\n"
     ]
    }
   ],
   "source": [
    "# Navigate the BTC response object to access the current price of BTC\n",
    "\n",
    "btc_symbol = btc_response['data']['1']['symbol']\n",
    "print(f\"The symbol for Bitcoin is {btc_symbol}\")\n",
    "\n",
    "# Print the current price of BTC\n",
    "\n",
    "btc_price=btc_response['data']['1']['quotes']['USD']['price']\n",
    "print(f\"The price for Bitcoin is ${btc_price}\")\n",
    "\n"
   ]
  },
  {
   "cell_type": "code",
   "execution_count": 10,
   "metadata": {},
   "outputs": [
    {
     "name": "stdout",
     "output_type": "stream",
     "text": [
      "The symbol for Etherium is ETH\n",
      "The price for Etherium is $2529.46\n"
     ]
    }
   ],
   "source": [
    "# Navigate the BTC response object to access the current price of ETH\n",
    "eth_symbol = eth_response['data']['1027']['symbol']\n",
    "print(f\"The symbol for Etherium is {eth_symbol}\")\n",
    "\n",
    "# Print the current price of ETH\n",
    "# YOUR CODE HERE\n",
    "eth_price=eth_response['data']['1027']['quotes']['USD']['price']\n",
    "print(f\"The price for Etherium is ${eth_price}\")\n"
   ]
  },
  {
   "cell_type": "markdown",
   "metadata": {},
   "source": [
    "### Step 4: Calculate the value, in US dollars, of the current amount of each cryptocurrency and of the entire cryptocurrency wallet."
   ]
  },
  {
   "cell_type": "code",
   "execution_count": 11,
   "metadata": {},
   "outputs": [
    {
     "name": "stdout",
     "output_type": "stream",
     "text": [
      "The value of Bitcoin in the portfolio 65266.799999999996\n"
     ]
    }
   ],
   "source": [
    "# Compute the current value of the BTC holding \n",
    "btc_value = btc_coins * btc_price\n",
    "\n",
    "# Print current value of your holding in BTC\n",
    "print(f\"The value of Bitcoin in the portfolio {btc_value}\")\n"
   ]
  },
  {
   "cell_type": "code",
   "execution_count": 12,
   "metadata": {},
   "outputs": [
    {
     "name": "stdout",
     "output_type": "stream",
     "text": [
      "The value of Etheriun in the portfolio 13406.137999999999\n"
     ]
    }
   ],
   "source": [
    "# Compute the current value of the ETH holding \n",
    "eth_value = eth_coins * eth_price\n",
    "\n",
    "# Print current value of your holding in ETH\n",
    "print(f\"The value of Etheriun in the portfolio {eth_value}\")\n"
   ]
  },
  {
   "cell_type": "code",
   "execution_count": 13,
   "metadata": {},
   "outputs": [
    {
     "name": "stdout",
     "output_type": "stream",
     "text": [
      "Cryptocurrency wallet balance = 78672.938\n"
     ]
    }
   ],
   "source": [
    "# Compute the total value of the cryptocurrency wallet\n",
    "# Add the value of the BTC holding to the value of the ETH holding\n",
    "total_crypto_wallet = btc_value + eth_value\n",
    "\n",
    "# Print current cryptocurrency wallet balance\n",
    "print(f\"Cryptocurrency wallet balance = {total_crypto_wallet}\")\n",
    "\n"
   ]
  },
  {
   "cell_type": "markdown",
   "metadata": {},
   "source": [
    "### Evaluate the Stock and Bond Holdings by Using the Alpaca SDK\n",
    "\n",
    "In this section, you’ll determine the current value of a member’s stock and bond holdings. You’ll make an API call to Alpaca via the Alpaca SDK to get the current closing prices of the SPDR S&P 500 ETF Trust (ticker: SPY) and of the iShares Core US Aggregate Bond ETF (ticker: AGG). For the prototype, assume that the member holds 110 shares of SPY, which represents the stock portion of their portfolio, and 200 shares of AGG, which represents the bond portion. To do all this, complete the following steps:\n",
    "\n",
    "1. In the `Starter_Code` folder, create an environment file (`.env`) to store the values of your Alpaca API key and Alpaca secret key.\n",
    "\n",
    "2. Set the variables for the Alpaca API and secret keys. Using the Alpaca SDK, create the Alpaca `tradeapi.REST` object. In this object, include the parameters for the Alpaca API key, the secret key, and the version number.\n",
    "\n",
    "3. Set the following parameters for the Alpaca API call:\n",
    "\n",
    "    - `tickers`: Use the tickers for the member’s stock and bond holdings.\n",
    "\n",
    "    - `timeframe`: Use a time frame of one day.\n",
    "\n",
    "    - `start_date` and `end_date`: Use the same date for these parameters, and format them with the date of the previous weekday (or `2020-08-07`). This is because you want the one closing price for the most-recent trading day.\n",
    "\n",
    "4. Get the current closing prices for `SPY` and `AGG` by using the Alpaca `get_barset` function. Format the response as a Pandas DataFrame by including the `df` property at the end of the `get_barset` function.\n",
    "\n",
    "5. Navigating the Alpaca response DataFrame, select the `SPY` and `AGG` closing prices, and store them as variables.\n",
    "\n",
    "6. Calculate the value, in US dollars, of the current amount of shares in each of the stock and bond portions of the portfolio, and print the results.\n"
   ]
  },
  {
   "cell_type": "markdown",
   "metadata": {},
   "source": [
    "#### Review the total number of shares held in both (SPY) and (AGG)."
   ]
  },
  {
   "cell_type": "code",
   "execution_count": 14,
   "metadata": {},
   "outputs": [],
   "source": [
    "# Current amount of shares held in both the stock (SPY) and bond (AGG) portion of the portfolio.\n",
    "spy_shares = 110\n",
    "agg_shares = 200\n"
   ]
  },
  {
   "cell_type": "markdown",
   "metadata": {},
   "source": [
    "#### Step 1: In the `Starter_Code` folder, create an environment file (`.env`) to store the values of your Alpaca API key and Alpaca secret key."
   ]
  },
  {
   "cell_type": "markdown",
   "metadata": {},
   "source": [
    "#### Step 2: Set the variables for the Alpaca API and secret keys. Using the Alpaca SDK, create the Alpaca `tradeapi.REST` object. In this object, include the parameters for the Alpaca API key, the secret key, and the version number."
   ]
  },
  {
   "cell_type": "code",
   "execution_count": 15,
   "metadata": {},
   "outputs": [],
   "source": [
    "# Set the variables for the Alpaca API and secret keys\n",
    "alpaca_api_key = os.getenv(\"ALPACA_API_KEY\")\n",
    "alpaca_secret_key = os.getenv(\"ALPACA_SECRET_KEY\")\n",
    "\n",
    "# Create the Alpaca tradeapi.REST object\n",
    "alpaca = tradeapi.REST(\n",
    "    alpaca_api_key,\n",
    "    alpaca_secret_key,\n",
    "    api_version=\"v2\")\n"
   ]
  },
  {
   "cell_type": "markdown",
   "metadata": {},
   "source": [
    "#### Step 3: Set the following parameters for the Alpaca API call:\n",
    "\n",
    "- `tickers`: Use the tickers for the member’s stock and bond holdings.\n",
    "\n",
    "- `timeframe`: Use a time frame of one day.\n",
    "\n",
    "- `start_date` and `end_date`: Use the same date for these parameters, and format them with the date of the previous weekday (or `2020-08-07`). This is because you want the one closing price for the most-recent trading day.\n"
   ]
  },
  {
   "cell_type": "code",
   "execution_count": 16,
   "metadata": {},
   "outputs": [],
   "source": [
    "# Set the tickers for both the bond and stock portion of the portfolio\n",
    "tickers = [\"SPY\", \"AGG\"]\n",
    "\n",
    "# Set timeframe to 1D \n",
    "timeframe = \"1D\"\n",
    "\n",
    "# Format current date as ISO format\n",
    "# Set both the start and end date at the date of your prior weekday \n",
    "# This will give you the closing price of the previous trading day\n",
    "# Alternatively you can use a start and end date of 2020-08-07\n",
    "start_date = pd.Timestamp(\"2020-08-07\", tz=\"America/New_York\").isoformat()\n",
    "end_date = pd.Timestamp(\"2020-08-07\", tz=\"America/New_York\").isoformat()"
   ]
  },
  {
   "cell_type": "markdown",
   "metadata": {},
   "source": [
    "#### Step 4: Get the current closing prices for `SPY` and `AGG` by using the Alpaca `get_barset` function. Format the response as a Pandas DataFrame by including the `df` property at the end of the `get_barset` function."
   ]
  },
  {
   "cell_type": "code",
   "execution_count": 17,
   "metadata": {},
   "outputs": [
    {
     "data": {
      "text/html": [
       "<div>\n",
       "<style scoped>\n",
       "    .dataframe tbody tr th:only-of-type {\n",
       "        vertical-align: middle;\n",
       "    }\n",
       "\n",
       "    .dataframe tbody tr th {\n",
       "        vertical-align: top;\n",
       "    }\n",
       "\n",
       "    .dataframe thead tr th {\n",
       "        text-align: left;\n",
       "    }\n",
       "\n",
       "    .dataframe thead tr:last-of-type th {\n",
       "        text-align: right;\n",
       "    }\n",
       "</style>\n",
       "<table border=\"1\" class=\"dataframe\">\n",
       "  <thead>\n",
       "    <tr>\n",
       "      <th></th>\n",
       "      <th colspan=\"5\" halign=\"left\">AGG</th>\n",
       "      <th colspan=\"5\" halign=\"left\">SPY</th>\n",
       "    </tr>\n",
       "    <tr>\n",
       "      <th></th>\n",
       "      <th>open</th>\n",
       "      <th>high</th>\n",
       "      <th>low</th>\n",
       "      <th>close</th>\n",
       "      <th>volume</th>\n",
       "      <th>open</th>\n",
       "      <th>high</th>\n",
       "      <th>low</th>\n",
       "      <th>close</th>\n",
       "      <th>volume</th>\n",
       "    </tr>\n",
       "    <tr>\n",
       "      <th>time</th>\n",
       "      <th></th>\n",
       "      <th></th>\n",
       "      <th></th>\n",
       "      <th></th>\n",
       "      <th></th>\n",
       "      <th></th>\n",
       "      <th></th>\n",
       "      <th></th>\n",
       "      <th></th>\n",
       "      <th></th>\n",
       "    </tr>\n",
       "  </thead>\n",
       "  <tbody>\n",
       "    <tr>\n",
       "      <th>2020-08-07 00:00:00-04:00</th>\n",
       "      <td>119.66</td>\n",
       "      <td>119.73</td>\n",
       "      <td>119.395</td>\n",
       "      <td>119.445</td>\n",
       "      <td>8830420</td>\n",
       "      <td>333.28</td>\n",
       "      <td>334.88</td>\n",
       "      <td>332.3</td>\n",
       "      <td>334.55</td>\n",
       "      <td>98710236</td>\n",
       "    </tr>\n",
       "  </tbody>\n",
       "</table>\n",
       "</div>"
      ],
      "text/plain": [
       "                              AGG                                        SPY  \\\n",
       "                             open    high      low    close   volume    open   \n",
       "time                                                                           \n",
       "2020-08-07 00:00:00-04:00  119.66  119.73  119.395  119.445  8830420  333.28   \n",
       "\n",
       "                                                            \n",
       "                             high    low   close    volume  \n",
       "time                                                        \n",
       "2020-08-07 00:00:00-04:00  334.88  332.3  334.55  98710236  "
      ]
     },
     "execution_count": 17,
     "metadata": {},
     "output_type": "execute_result"
    }
   ],
   "source": [
    "# Use the Alpaca get_barset function to get current closing prices the portfolio\n",
    "# Be sure to set the `df` property after the function to format the response object as a DataFrame\n",
    "df_portfolio = alpaca.get_barset(\n",
    "    tickers,\n",
    "    timeframe,\n",
    "    start = start_date,\n",
    "    end = end_date\n",
    ").df\n",
    "\n",
    "\n",
    "# Review the first 5 rows of the Alpaca DataFrame\n",
    "df_portfolio.head()\n"
   ]
  },
  {
   "cell_type": "markdown",
   "metadata": {},
   "source": [
    "#### Step 5: Navigating the Alpaca response DataFrame, select the `SPY` and `AGG` closing prices, and store them as variables."
   ]
  },
  {
   "cell_type": "code",
   "execution_count": 18,
   "metadata": {},
   "outputs": [
    {
     "name": "stdout",
     "output_type": "stream",
     "text": [
      "AGG closing price= 119.445\n"
     ]
    }
   ],
   "source": [
    "\n",
    "# Access the closing price for AGG from the Alpaca DataFrame\n",
    "# Converting the value to a floating point number\n",
    "agg_close_price=df_portfolio[\"AGG\"][\"close\"][0]\n",
    "\n",
    "\n",
    "# Print the AGG closing price\n",
    "print(f\"AGG closing price= {agg_close_price}\")\n",
    "\n"
   ]
  },
  {
   "cell_type": "code",
   "execution_count": 19,
   "metadata": {},
   "outputs": [
    {
     "name": "stdout",
     "output_type": "stream",
     "text": [
      "SPY closing price= 334.55\n"
     ]
    }
   ],
   "source": [
    "# Access the closing price for SPY from the Alpaca DataFrame\n",
    "# Converting the value to a floating point number\n",
    "\n",
    "spy_close_price=df_portfolio[\"SPY\"][\"close\"][0]\n",
    "\n",
    "# Print the SPY closing price\n",
    "\n",
    "print(f\"SPY closing price= {spy_close_price}\")"
   ]
  },
  {
   "cell_type": "markdown",
   "metadata": {},
   "source": [
    "#### Step 6: Calculate the value, in US dollars, of the current amount of shares in each of the stock and bond portions of the portfolio, and print the results."
   ]
  },
  {
   "cell_type": "code",
   "execution_count": 20,
   "metadata": {},
   "outputs": [
    {
     "name": "stdout",
     "output_type": "stream",
     "text": [
      "Current value of the bond portfolio = 23889.0\n"
     ]
    }
   ],
   "source": [
    "# Calculate the current value of the bond portion of the portfolio\n",
    "agg_value=agg_shares*agg_close_price\n",
    "\n",
    "\n",
    "# Print the current value of the bond portfolio\n",
    "print(f\"Current value of the bond portfolio = {agg_value}\")\n"
   ]
  },
  {
   "cell_type": "code",
   "execution_count": 21,
   "metadata": {},
   "outputs": [
    {
     "name": "stdout",
     "output_type": "stream",
     "text": [
      "Current value of the stock portfolio = 36800.5\n"
     ]
    }
   ],
   "source": [
    "# Calculate the current value of the stock portion of the portfolio\n",
    "spy_value=spy_shares*spy_close_price\n",
    "\n",
    "# Print the current value of the stock portfolio\n",
    "print(f\"Current value of the stock portfolio = {spy_value}\")\n",
    "\n"
   ]
  },
  {
   "cell_type": "code",
   "execution_count": 22,
   "metadata": {},
   "outputs": [
    {
     "name": "stdout",
     "output_type": "stream",
     "text": [
      "Current value of the stock and bond portion of the portfolio = 60689.5\n"
     ]
    }
   ],
   "source": [
    "# Calculate the total value of the stock and bond portion of the portfolio\n",
    "total_stocks_bonds=agg_value+spy_value\n",
    "\n",
    "# Print the current balance of the stock and bond portion of the portfolio\n",
    "\n",
    "print(f\"Current value of the stock and bond portion of the portfolio = {total_stocks_bonds}\")\n",
    "\n"
   ]
  },
  {
   "cell_type": "code",
   "execution_count": 23,
   "metadata": {},
   "outputs": [
    {
     "name": "stdout",
     "output_type": "stream",
     "text": [
      "Current value of member's entire savings portfolio = 139362.438\n"
     ]
    }
   ],
   "source": [
    "# Calculate the total value of the member's entire savings portfolio\n",
    "# Add the value of the cryptocurrency walled to the value of the total stocks and bonds\n",
    "total_portfolio=total_crypto_wallet+total_stocks_bonds\n",
    "\n",
    "print(f\"Current value of member's entire savings portfolio = {total_portfolio}\")"
   ]
  },
  {
   "cell_type": "markdown",
   "metadata": {},
   "source": [
    "### Evaluate the Emergency Fund\n",
    "\n",
    "In this section, you’ll use the valuations for the cryptocurrency wallet and for the stock and bond portions of the portfolio to determine if the credit union member has enough savings to build an emergency fund into their financial plan. To do this, complete the following steps:\n",
    "\n",
    "1. Create a Python list named `savings_data` that has two elements. The first element contains the total value of the cryptocurrency wallet. The second element contains the total value of the stock and bond portions of the portfolio.\n",
    "\n",
    "2. Use the `savings_data` list to create a Pandas DataFrame named `savings_df`, and then display this DataFrame. The function to create the DataFrame should take the following three parameters:\n",
    "\n",
    "    - `savings_data`: Use the list that you just created.\n",
    "\n",
    "    - `columns`: Set this parameter equal to a Python list with a single value called `amount`.\n",
    "\n",
    "    - `index`: Set this parameter equal to a Python list with the values of `crypto` and `stock/bond`.\n",
    "\n",
    "3. Use the `savings_df` DataFrame to plot a pie chart that visualizes the composition of the member’s portfolio. The y-axis of the pie chart uses `amount`. Be sure to add a title.\n",
    "\n",
    "4. Using Python, determine if the current portfolio has enough to create an emergency fund as part of the member’s financial plan. Ideally, an emergency fund should equal to three times the member’s monthly income. To do this, implement the following steps:\n",
    "\n",
    "    1. Create a variable named `emergency_fund_value`, and set it equal to three times the value of the member’s `monthly_income` of $12000. (You set this earlier in Part 1).\n",
    "\n",
    "    2. Create a series of three if statements to determine if the member’s total portfolio is large enough to fund the emergency portfolio:\n",
    "\n",
    "        1. If the total portfolio value is greater than the emergency fund value, display a message congratulating the member for having enough money in this fund.\n",
    "\n",
    "        2. Else if the total portfolio value is equal to the emergency fund value, display a message congratulating the member on reaching this important financial goal.\n",
    "\n",
    "        3. Else the total portfolio is less than the emergency fund value, so display a message showing how many dollars away the member is from reaching the goal. (Subtract the total portfolio value from the emergency fund value.)\n"
   ]
  },
  {
   "cell_type": "markdown",
   "metadata": {},
   "source": [
    "#### Step 1: Create a Python list named `savings_data` that has two elements. The first element contains the total value of the cryptocurrency wallet. The second element contains the total value of the stock and bond portions of the portfolio."
   ]
  },
  {
   "cell_type": "code",
   "execution_count": 24,
   "metadata": {},
   "outputs": [
    {
     "data": {
      "text/plain": [
       "[78672.938, 60689.5]"
      ]
     },
     "execution_count": 24,
     "metadata": {},
     "output_type": "execute_result"
    }
   ],
   "source": [
    "# Consolidate financial assets data into a Python list\n",
    "savings_data= [total_crypto_wallet , total_stocks_bonds]\n",
    "\n",
    "# Review the Python list savings_data\n",
    "savings_data\n",
    "    "
   ]
  },
  {
   "cell_type": "markdown",
   "metadata": {},
   "source": [
    "#### Step 2: Use the `savings_data` list to create a Pandas DataFrame named `savings_df`, and then display this DataFrame. The function to create the DataFrame should take the following three parameters:\n",
    "\n",
    "- `savings_data`: Use the list that you just created.\n",
    "\n",
    "- `columns`: Set this parameter equal to a Python list with a single value called `amount`.\n",
    "\n",
    "- `index`: Set this parameter equal to a Python list with the values of `crypto` and `stock/bond`.\n"
   ]
  },
  {
   "cell_type": "code",
   "execution_count": 25,
   "metadata": {},
   "outputs": [
    {
     "data": {
      "text/html": [
       "<div>\n",
       "<style scoped>\n",
       "    .dataframe tbody tr th:only-of-type {\n",
       "        vertical-align: middle;\n",
       "    }\n",
       "\n",
       "    .dataframe tbody tr th {\n",
       "        vertical-align: top;\n",
       "    }\n",
       "\n",
       "    .dataframe thead th {\n",
       "        text-align: right;\n",
       "    }\n",
       "</style>\n",
       "<table border=\"1\" class=\"dataframe\">\n",
       "  <thead>\n",
       "    <tr style=\"text-align: right;\">\n",
       "      <th></th>\n",
       "      <th>Amount</th>\n",
       "    </tr>\n",
       "  </thead>\n",
       "  <tbody>\n",
       "    <tr>\n",
       "      <th>Crypto</th>\n",
       "      <td>78672.938</td>\n",
       "    </tr>\n",
       "    <tr>\n",
       "      <th>Stock/Bond</th>\n",
       "      <td>60689.500</td>\n",
       "    </tr>\n",
       "  </tbody>\n",
       "</table>\n",
       "</div>"
      ],
      "text/plain": [
       "               Amount\n",
       "Crypto      78672.938\n",
       "Stock/Bond  60689.500"
      ]
     },
     "execution_count": 25,
     "metadata": {},
     "output_type": "execute_result"
    }
   ],
   "source": [
    "# Create a Pandas DataFrame called savings_df \n",
    "savings_df=pd.DataFrame(savings_data, columns=[\"Amount\"], index=[\"Crypto\", \"Stock/Bond\"])\n",
    "# Display the savings_df DataFrame\n",
    "savings_df\n"
   ]
  },
  {
   "cell_type": "markdown",
   "metadata": {},
   "source": [
    "#### Step 3: Use the `savings_df` DataFrame to plot a pie chart that visualizes the composition of the member’s portfolio. The y-axis of the pie chart uses `amount`. Be sure to add a title."
   ]
  },
  {
   "cell_type": "code",
   "execution_count": 26,
   "metadata": {},
   "outputs": [
    {
     "data": {
      "text/plain": [
       "<AxesSubplot:title={'center':'Portfolio composition'}, ylabel='Amount'>"
      ]
     },
     "execution_count": 26,
     "metadata": {},
     "output_type": "execute_result"
    },
    {
     "data": {
      "image/png": "[encoded data removed]",
      "text/plain": [
       "<Figure size 360x360 with 1 Axes>"
      ]
     },
     "metadata": {},
     "output_type": "display_data"
    }
   ],
   "source": [
    "# Plot the total value of the member's portfolio (crypto and stock/bond) in a pie chart\n",
    "savings_df.plot.pie(y='Amount',title=\"Portfolio composition\", figsize=(5, 5))\n"
   ]
  },
  {
   "cell_type": "markdown",
   "metadata": {},
   "source": [
    "#### Step 4: Using Python, determine if the current portfolio has enough to create an emergency fund as part of the member’s financial plan. Ideally, an emergency fund should equal to three times the member’s monthly income. To do this, implement the following steps:\n",
    "\n",
    "Step 1. Create a variable named `emergency_fund_value`, and set it equal to three times the value of the member’s `monthly_income` of 12000. (You set this earlier in Part 1).\n",
    "\n",
    "Step 2. Create a series of three if statements to determine if the member’s total portfolio is large enough to fund the emergency portfolio:\n",
    "\n",
    "* If the total portfolio value is greater than the emergency fund value, display a message congratulating the member for having enough money in this fund.\n",
    "\n",
    "* Else if the total portfolio value is equal to the emergency fund value, display a message congratulating the member on reaching this important financial goal.\n",
    "\n",
    "* Else the total portfolio is less than the emergency fund value, so display a message showing how many dollars away the member is from reaching the goal. (Subtract the total portfolio value from the emergency fund value.)\n"
   ]
  },
  {
   "cell_type": "markdown",
   "metadata": {},
   "source": [
    "##### Step 4-1: Create a variable named `emergency_fund_value`, and set it equal to three times the value of the member’s `monthly_income` of 12000. (You set this earlier in Part 1)."
   ]
  },
  {
   "cell_type": "code",
   "execution_count": 27,
   "metadata": {},
   "outputs": [],
   "source": [
    "# Create a variable named emergency_fund_value\n",
    "emergency_fund_value=monthly_income*3\n",
    "gap=total_portfolio-emergency_fund_value"
   ]
  },
  {
   "cell_type": "markdown",
   "metadata": {},
   "source": [
    "##### Step 4-2: Create a series of three if statements to determine if the member’s total portfolio is large enough to fund the emergency portfolio:\n",
    "\n",
    "* If the total portfolio value is greater than the emergency fund value, display a message congratulating the member for having enough money in this fund.\n",
    "\n",
    "* Else if the total portfolio value is equal to the emergency fund value, display a message congratulating the member on reaching this important financial goal.\n",
    "\n",
    "* Else the total portfolio is less than the emergency fund value, so display a message showing how many dollars away the member is from reaching the goal. (Subtract the total portfolio value from the emergency fund value.)"
   ]
  },
  {
   "cell_type": "code",
   "execution_count": 28,
   "metadata": {},
   "outputs": [
    {
     "name": "stdout",
     "output_type": "stream",
     "text": [
      "Current value of Emergency fund is sufficient\n"
     ]
    }
   ],
   "source": [
    "# Evaluate the possibility of creating an emergency fund with 3 conditions:\n",
    "if total_portfolio>emergency_fund_value:\n",
    "     print(f\"Current value of Emergency fund is sufficient\")\n",
    "elif total_portfolio==emergency_fund_value:\n",
    "     print(f\"You reached financial stability! Current value of Emergency fund is sufficient\")\n",
    "else:\n",
    "     print(f\"Not enough savings for emergency fund. To reach financial stability you need to save {gap}$\")\n",
    "\n"
   ]
  },
  {
   "cell_type": "markdown",
   "metadata": {},
   "source": [
    "## Part 2: Create a Financial Planner for Retirement"
   ]
  },
  {
   "cell_type": "markdown",
   "metadata": {},
   "source": [
    "### Create the Monte Carlo Simulation\n",
    "\n",
    "In this section, you’ll use the MCForecastTools library to create a Monte Carlo simulation for the member’s savings portfolio. To do this, complete the following steps:\n",
    "\n",
    "1. Make an API call via the Alpaca SDK to get 10 years of historical closing prices for a traditional 60/40 portfolio split: 60% stocks (SPY) and 40% bonds (AGG).\n",
    "\n",
    "2. Run a Monte Carlo simulation of 500 samples and 30 years for the 60/40 portfolio, and then plot the results.The following image shows the overlay line plot resulting from a simulation with these characteristics. However, because a random number generator is used to run each live Monte Carlo simulation, your image will differ slightly from this exact image:\n",
    "\n",
    "![A screenshot depicts the resulting plot.](Images/5-4-monte-carlo-line-plot.png)\n",
    "\n",
    "3. Plot the probability distribution of the Monte Carlo simulation. Plot the probability distribution of the Monte Carlo simulation. The following image shows the histogram plot resulting from a simulation with these characteristics. However, because a random number generator is used to run each live Monte Carlo simulation, your image will differ slightly from this exact image:\n",
    "\n",
    "![A screenshot depicts the histogram plot.](Images/5-4-monte-carlo-histogram.png)\n",
    "\n",
    "4. Generate the summary statistics for the Monte Carlo simulation.\n",
    "\n"
   ]
  },
  {
   "cell_type": "markdown",
   "metadata": {},
   "source": [
    "#### Step 1: Make an API call via the Alpaca SDK to get 10 years of historical closing prices for a traditional 60/40 portfolio split: 60% stocks (SPY) and 40% bonds (AGG)."
   ]
  },
  {
   "cell_type": "code",
   "execution_count": 29,
   "metadata": {},
   "outputs": [],
   "source": [
    "# Set start and end dates of 10 years back from your current date\n",
    "# Alternatively, you can use an end date of 2020-08-07 and work 10 years back from that date \n",
    "# Set the ticker information\n",
    "tickers = [\"SPY\",\"AGG\"]\n",
    "\n",
    "# Set timeframe to '1D'\n",
    "timeframe = \"1D\"\n",
    "\n",
    "# Set start and end datetimes \n",
    "start_date = pd.Timestamp(\"2011-04-23\", tz=\"America/New_York\").isoformat()\n",
    "end_date = pd.Timestamp(\"2021-04-23\", tz=\"America/New_York\").isoformat()\n"
   ]
  },
  {
   "cell_type": "code",
   "execution_count": 30,
   "metadata": {},
   "outputs": [
    {
     "data": {
      "text/html": [
       "<div>\n",
       "<style scoped>\n",
       "    .dataframe tbody tr th:only-of-type {\n",
       "        vertical-align: middle;\n",
       "    }\n",
       "\n",
       "    .dataframe tbody tr th {\n",
       "        vertical-align: top;\n",
       "    }\n",
       "\n",
       "    .dataframe thead tr th {\n",
       "        text-align: left;\n",
       "    }\n",
       "\n",
       "    .dataframe thead tr:last-of-type th {\n",
       "        text-align: right;\n",
       "    }\n",
       "</style>\n",
       "<table border=\"1\" class=\"dataframe\">\n",
       "  <thead>\n",
       "    <tr>\n",
       "      <th></th>\n",
       "      <th colspan=\"5\" halign=\"left\">AGG</th>\n",
       "      <th colspan=\"5\" halign=\"left\">SPY</th>\n",
       "    </tr>\n",
       "    <tr>\n",
       "      <th></th>\n",
       "      <th>open</th>\n",
       "      <th>high</th>\n",
       "      <th>low</th>\n",
       "      <th>close</th>\n",
       "      <th>volume</th>\n",
       "      <th>open</th>\n",
       "      <th>high</th>\n",
       "      <th>low</th>\n",
       "      <th>close</th>\n",
       "      <th>volume</th>\n",
       "    </tr>\n",
       "    <tr>\n",
       "      <th>time</th>\n",
       "      <th></th>\n",
       "      <th></th>\n",
       "      <th></th>\n",
       "      <th></th>\n",
       "      <th></th>\n",
       "      <th></th>\n",
       "      <th></th>\n",
       "      <th></th>\n",
       "      <th></th>\n",
       "      <th></th>\n",
       "    </tr>\n",
       "  </thead>\n",
       "  <tbody>\n",
       "    <tr>\n",
       "      <th>2020-11-30 00:00:00-05:00</th>\n",
       "      <td>118.320</td>\n",
       "      <td>118.450</td>\n",
       "      <td>118.2500</td>\n",
       "      <td>118.400</td>\n",
       "      <td>5231566</td>\n",
       "      <td>362.83</td>\n",
       "      <td>363.120</td>\n",
       "      <td>359.17</td>\n",
       "      <td>362.0000</td>\n",
       "      <td>67154075</td>\n",
       "    </tr>\n",
       "    <tr>\n",
       "      <th>2020-12-01 00:00:00-05:00</th>\n",
       "      <td>118.030</td>\n",
       "      <td>118.100</td>\n",
       "      <td>117.7300</td>\n",
       "      <td>117.840</td>\n",
       "      <td>4308362</td>\n",
       "      <td>365.57</td>\n",
       "      <td>367.680</td>\n",
       "      <td>364.93</td>\n",
       "      <td>365.9700</td>\n",
       "      <td>64527332</td>\n",
       "    </tr>\n",
       "    <tr>\n",
       "      <th>2020-12-02 00:00:00-05:00</th>\n",
       "      <td>117.810</td>\n",
       "      <td>117.810</td>\n",
       "      <td>117.5400</td>\n",
       "      <td>117.705</td>\n",
       "      <td>5554915</td>\n",
       "      <td>364.82</td>\n",
       "      <td>366.960</td>\n",
       "      <td>364.20</td>\n",
       "      <td>366.7599</td>\n",
       "      <td>37323404</td>\n",
       "    </tr>\n",
       "    <tr>\n",
       "      <th>2020-12-03 00:00:00-05:00</th>\n",
       "      <td>117.920</td>\n",
       "      <td>117.980</td>\n",
       "      <td>117.7650</td>\n",
       "      <td>117.910</td>\n",
       "      <td>5210910</td>\n",
       "      <td>366.68</td>\n",
       "      <td>368.190</td>\n",
       "      <td>365.50</td>\n",
       "      <td>366.6698</td>\n",
       "      <td>52905586</td>\n",
       "    </tr>\n",
       "    <tr>\n",
       "      <th>2020-12-04 00:00:00-05:00</th>\n",
       "      <td>117.900</td>\n",
       "      <td>117.900</td>\n",
       "      <td>117.5133</td>\n",
       "      <td>117.580</td>\n",
       "      <td>4821820</td>\n",
       "      <td>367.32</td>\n",
       "      <td>369.850</td>\n",
       "      <td>367.22</td>\n",
       "      <td>369.8300</td>\n",
       "      <td>40264568</td>\n",
       "    </tr>\n",
       "    <tr>\n",
       "      <th>...</th>\n",
       "      <td>...</td>\n",
       "      <td>...</td>\n",
       "      <td>...</td>\n",
       "      <td>...</td>\n",
       "      <td>...</td>\n",
       "      <td>...</td>\n",
       "      <td>...</td>\n",
       "      <td>...</td>\n",
       "      <td>...</td>\n",
       "      <td>...</td>\n",
       "    </tr>\n",
       "    <tr>\n",
       "      <th>2021-04-12 00:00:00-04:00</th>\n",
       "      <td>114.172</td>\n",
       "      <td>114.172</td>\n",
       "      <td>114.0000</td>\n",
       "      <td>114.150</td>\n",
       "      <td>3486052</td>\n",
       "      <td>410.85</td>\n",
       "      <td>411.930</td>\n",
       "      <td>410.20</td>\n",
       "      <td>411.6200</td>\n",
       "      <td>51358274</td>\n",
       "    </tr>\n",
       "    <tr>\n",
       "      <th>2021-04-13 00:00:00-04:00</th>\n",
       "      <td>114.120</td>\n",
       "      <td>114.460</td>\n",
       "      <td>114.1100</td>\n",
       "      <td>114.460</td>\n",
       "      <td>3882646</td>\n",
       "      <td>411.53</td>\n",
       "      <td>413.529</td>\n",
       "      <td>411.12</td>\n",
       "      <td>412.8200</td>\n",
       "      <td>50616046</td>\n",
       "    </tr>\n",
       "    <tr>\n",
       "      <th>2021-04-14 00:00:00-04:00</th>\n",
       "      <td>114.410</td>\n",
       "      <td>114.440</td>\n",
       "      <td>114.2800</td>\n",
       "      <td>114.380</td>\n",
       "      <td>3519353</td>\n",
       "      <td>412.83</td>\n",
       "      <td>413.960</td>\n",
       "      <td>410.87</td>\n",
       "      <td>411.4800</td>\n",
       "      <td>52950990</td>\n",
       "    </tr>\n",
       "    <tr>\n",
       "      <th>2021-04-15 00:00:00-04:00</th>\n",
       "      <td>113.780</td>\n",
       "      <td>114.980</td>\n",
       "      <td>113.7800</td>\n",
       "      <td>114.810</td>\n",
       "      <td>5455777</td>\n",
       "      <td>413.74</td>\n",
       "      <td>416.160</td>\n",
       "      <td>413.69</td>\n",
       "      <td>415.8200</td>\n",
       "      <td>54833901</td>\n",
       "    </tr>\n",
       "    <tr>\n",
       "      <th>2021-04-16 00:00:00-04:00</th>\n",
       "      <td>114.560</td>\n",
       "      <td>114.665</td>\n",
       "      <td>114.5000</td>\n",
       "      <td>114.540</td>\n",
       "      <td>3488514</td>\n",
       "      <td>417.25</td>\n",
       "      <td>417.910</td>\n",
       "      <td>415.73</td>\n",
       "      <td>417.3100</td>\n",
       "      <td>66624780</td>\n",
       "    </tr>\n",
       "  </tbody>\n",
       "</table>\n",
       "<p>95 rows × 10 columns</p>\n",
       "</div>"
      ],
      "text/plain": [
       "                               AGG                                       \\\n",
       "                              open     high       low    close   volume   \n",
       "time                                                                      \n",
       "2020-11-30 00:00:00-05:00  118.320  118.450  118.2500  118.400  5231566   \n",
       "2020-12-01 00:00:00-05:00  118.030  118.100  117.7300  117.840  4308362   \n",
       "2020-12-02 00:00:00-05:00  117.810  117.810  117.5400  117.705  5554915   \n",
       "2020-12-03 00:00:00-05:00  117.920  117.980  117.7650  117.910  5210910   \n",
       "2020-12-04 00:00:00-05:00  117.900  117.900  117.5133  117.580  4821820   \n",
       "...                            ...      ...       ...      ...      ...   \n",
       "2021-04-12 00:00:00-04:00  114.172  114.172  114.0000  114.150  3486052   \n",
       "2021-04-13 00:00:00-04:00  114.120  114.460  114.1100  114.460  3882646   \n",
       "2021-04-14 00:00:00-04:00  114.410  114.440  114.2800  114.380  3519353   \n",
       "2021-04-15 00:00:00-04:00  113.780  114.980  113.7800  114.810  5455777   \n",
       "2021-04-16 00:00:00-04:00  114.560  114.665  114.5000  114.540  3488514   \n",
       "\n",
       "                              SPY                                       \n",
       "                             open     high     low     close    volume  \n",
       "time                                                                    \n",
       "2020-11-30 00:00:00-05:00  362.83  363.120  359.17  362.0000  67154075  \n",
       "2020-12-01 00:00:00-05:00  365.57  367.680  364.93  365.9700  64527332  \n",
       "2020-12-02 00:00:00-05:00  364.82  366.960  364.20  366.7599  37323404  \n",
       "2020-12-03 00:00:00-05:00  366.68  368.190  365.50  366.6698  52905586  \n",
       "2020-12-04 00:00:00-05:00  367.32  369.850  367.22  369.8300  40264568  \n",
       "...                           ...      ...     ...       ...       ...  \n",
       "2021-04-12 00:00:00-04:00  410.85  411.930  410.20  411.6200  51358274  \n",
       "2021-04-13 00:00:00-04:00  411.53  413.529  411.12  412.8200  50616046  \n",
       "2021-04-14 00:00:00-04:00  412.83  413.960  410.87  411.4800  52950990  \n",
       "2021-04-15 00:00:00-04:00  413.74  416.160  413.69  415.8200  54833901  \n",
       "2021-04-16 00:00:00-04:00  417.25  417.910  415.73  417.3100  66624780  \n",
       "\n",
       "[95 rows x 10 columns]"
      ]
     },
     "execution_count": 30,
     "metadata": {},
     "output_type": "execute_result"
    }
   ],
   "source": [
    "# Use the Alpaca get_barset function to make the API call to get the 10 years worth of pricing data\n",
    "# The tickers and timeframe parameters should have been set in Part 1 of this activity \n",
    "# The start and end dates should be updated with the information set above\n",
    "# Remember to add the df property to the end of the call so the response is returned as a DataFrame\n",
    "prices_df = alpaca.get_barset(\n",
    "    tickers,\n",
    "    timeframe,\n",
    "    start=start_date,\n",
    "    end=end_date\n",
    ").df\n",
    "\n",
    "# Display both the first and last five rows of the DataFrame\n",
    "prices_df.head(-5)\n"
   ]
  },
  {
   "cell_type": "markdown",
   "metadata": {},
   "source": [
    "#### Step 2: Run a Monte Carlo simulation of 500 samples and 30 years for the 60/40 portfolio, and then plot the results."
   ]
  },
  {
   "cell_type": "code",
   "execution_count": 31,
   "metadata": {},
   "outputs": [
    {
     "data": {
      "text/html": [
       "<div>\n",
       "<style scoped>\n",
       "    .dataframe tbody tr th:only-of-type {\n",
       "        vertical-align: middle;\n",
       "    }\n",
       "\n",
       "    .dataframe tbody tr th {\n",
       "        vertical-align: top;\n",
       "    }\n",
       "\n",
       "    .dataframe thead tr th {\n",
       "        text-align: left;\n",
       "    }\n",
       "\n",
       "    .dataframe thead tr:last-of-type th {\n",
       "        text-align: right;\n",
       "    }\n",
       "</style>\n",
       "<table border=\"1\" class=\"dataframe\">\n",
       "  <thead>\n",
       "    <tr>\n",
       "      <th></th>\n",
       "      <th colspan=\"6\" halign=\"left\">AGG</th>\n",
       "      <th colspan=\"6\" halign=\"left\">SPY</th>\n",
       "    </tr>\n",
       "    <tr>\n",
       "      <th></th>\n",
       "      <th>open</th>\n",
       "      <th>high</th>\n",
       "      <th>low</th>\n",
       "      <th>close</th>\n",
       "      <th>volume</th>\n",
       "      <th>daily_return</th>\n",
       "      <th>open</th>\n",
       "      <th>high</th>\n",
       "      <th>low</th>\n",
       "      <th>close</th>\n",
       "      <th>volume</th>\n",
       "      <th>daily_return</th>\n",
       "    </tr>\n",
       "    <tr>\n",
       "      <th>time</th>\n",
       "      <th></th>\n",
       "      <th></th>\n",
       "      <th></th>\n",
       "      <th></th>\n",
       "      <th></th>\n",
       "      <th></th>\n",
       "      <th></th>\n",
       "      <th></th>\n",
       "      <th></th>\n",
       "      <th></th>\n",
       "      <th></th>\n",
       "      <th></th>\n",
       "    </tr>\n",
       "  </thead>\n",
       "  <tbody>\n",
       "    <tr>\n",
       "      <th>2020-11-30 00:00:00-05:00</th>\n",
       "      <td>118.32</td>\n",
       "      <td>118.45</td>\n",
       "      <td>118.2500</td>\n",
       "      <td>118.400</td>\n",
       "      <td>5231566</td>\n",
       "      <td>NaN</td>\n",
       "      <td>362.83</td>\n",
       "      <td>363.12</td>\n",
       "      <td>359.17</td>\n",
       "      <td>362.0000</td>\n",
       "      <td>67154075</td>\n",
       "      <td>NaN</td>\n",
       "    </tr>\n",
       "    <tr>\n",
       "      <th>2020-12-01 00:00:00-05:00</th>\n",
       "      <td>118.03</td>\n",
       "      <td>118.10</td>\n",
       "      <td>117.7300</td>\n",
       "      <td>117.840</td>\n",
       "      <td>4308362</td>\n",
       "      <td>-0.004730</td>\n",
       "      <td>365.57</td>\n",
       "      <td>367.68</td>\n",
       "      <td>364.93</td>\n",
       "      <td>365.9700</td>\n",
       "      <td>64527332</td>\n",
       "      <td>0.010967</td>\n",
       "    </tr>\n",
       "    <tr>\n",
       "      <th>2020-12-02 00:00:00-05:00</th>\n",
       "      <td>117.81</td>\n",
       "      <td>117.81</td>\n",
       "      <td>117.5400</td>\n",
       "      <td>117.705</td>\n",
       "      <td>5554915</td>\n",
       "      <td>-0.001146</td>\n",
       "      <td>364.82</td>\n",
       "      <td>366.96</td>\n",
       "      <td>364.20</td>\n",
       "      <td>366.7599</td>\n",
       "      <td>37323404</td>\n",
       "      <td>0.002158</td>\n",
       "    </tr>\n",
       "    <tr>\n",
       "      <th>2020-12-03 00:00:00-05:00</th>\n",
       "      <td>117.92</td>\n",
       "      <td>117.98</td>\n",
       "      <td>117.7650</td>\n",
       "      <td>117.910</td>\n",
       "      <td>5210910</td>\n",
       "      <td>0.001742</td>\n",
       "      <td>366.68</td>\n",
       "      <td>368.19</td>\n",
       "      <td>365.50</td>\n",
       "      <td>366.6698</td>\n",
       "      <td>52905586</td>\n",
       "      <td>-0.000246</td>\n",
       "    </tr>\n",
       "    <tr>\n",
       "      <th>2020-12-04 00:00:00-05:00</th>\n",
       "      <td>117.90</td>\n",
       "      <td>117.90</td>\n",
       "      <td>117.5133</td>\n",
       "      <td>117.580</td>\n",
       "      <td>4821820</td>\n",
       "      <td>-0.002799</td>\n",
       "      <td>367.32</td>\n",
       "      <td>369.85</td>\n",
       "      <td>367.22</td>\n",
       "      <td>369.8300</td>\n",
       "      <td>40264568</td>\n",
       "      <td>0.008619</td>\n",
       "    </tr>\n",
       "  </tbody>\n",
       "</table>\n",
       "</div>"
      ],
      "text/plain": [
       "                              AGG                                      \\\n",
       "                             open    high       low    close   volume   \n",
       "time                                                                    \n",
       "2020-11-30 00:00:00-05:00  118.32  118.45  118.2500  118.400  5231566   \n",
       "2020-12-01 00:00:00-05:00  118.03  118.10  117.7300  117.840  4308362   \n",
       "2020-12-02 00:00:00-05:00  117.81  117.81  117.5400  117.705  5554915   \n",
       "2020-12-03 00:00:00-05:00  117.92  117.98  117.7650  117.910  5210910   \n",
       "2020-12-04 00:00:00-05:00  117.90  117.90  117.5133  117.580  4821820   \n",
       "\n",
       "                                           SPY                            \\\n",
       "                          daily_return    open    high     low     close   \n",
       "time                                                                       \n",
       "2020-11-30 00:00:00-05:00          NaN  362.83  363.12  359.17  362.0000   \n",
       "2020-12-01 00:00:00-05:00    -0.004730  365.57  367.68  364.93  365.9700   \n",
       "2020-12-02 00:00:00-05:00    -0.001146  364.82  366.96  364.20  366.7599   \n",
       "2020-12-03 00:00:00-05:00     0.001742  366.68  368.19  365.50  366.6698   \n",
       "2020-12-04 00:00:00-05:00    -0.002799  367.32  369.85  367.22  369.8300   \n",
       "\n",
       "                                                  \n",
       "                             volume daily_return  \n",
       "time                                              \n",
       "2020-11-30 00:00:00-05:00  67154075          NaN  \n",
       "2020-12-01 00:00:00-05:00  64527332     0.010967  \n",
       "2020-12-02 00:00:00-05:00  37323404     0.002158  \n",
       "2020-12-03 00:00:00-05:00  52905586    -0.000246  \n",
       "2020-12-04 00:00:00-05:00  40264568     0.008619  "
      ]
     },
     "execution_count": 31,
     "metadata": {},
     "output_type": "execute_result"
    }
   ],
   "source": [
    "# Configure the Monte Carlo simulation to forecast 30 years cumulative returns\n",
    "# The weights should be split 40% to AGG and 60% to SPY.\n",
    "# Run 500 samples.\n",
    "MC_30_years = MCSimulation(\n",
    "    portfolio_data = prices_df,\n",
    "    weights = [.60,.40],\n",
    "    num_simulation = 500,\n",
    "    num_trading_days = 252*30\n",
    ")\n",
    "\n",
    "# Review the simulation input data\n",
    "MC_30_years.portfolio_data.head()\n"
   ]
  },
  {
   "cell_type": "code",
   "execution_count": 32,
   "metadata": {},
   "outputs": [
    {
     "name": "stdout",
     "output_type": "stream",
     "text": [
      "Running Monte Carlo simulation number 0.\n",
      "Running Monte Carlo simulation number 10.\n",
      "Running Monte Carlo simulation number 20.\n",
      "Running Monte Carlo simulation number 30.\n",
      "Running Monte Carlo simulation number 40.\n",
      "Running Monte Carlo simulation number 50.\n",
      "Running Monte Carlo simulation number 60.\n",
      "Running Monte Carlo simulation number 70.\n",
      "Running Monte Carlo simulation number 80.\n",
      "Running Monte Carlo simulation number 90.\n",
      "Running Monte Carlo simulation number 100.\n",
      "Running Monte Carlo simulation number 110.\n",
      "Running Monte Carlo simulation number 120.\n",
      "Running Monte Carlo simulation number 130.\n",
      "Running Monte Carlo simulation number 140.\n",
      "Running Monte Carlo simulation number 150.\n",
      "Running Monte Carlo simulation number 160.\n",
      "Running Monte Carlo simulation number 170.\n",
      "Running Monte Carlo simulation number 180.\n",
      "Running Monte Carlo simulation number 190.\n",
      "Running Monte Carlo simulation number 200.\n",
      "Running Monte Carlo simulation number 210.\n",
      "Running Monte Carlo simulation number 220.\n",
      "Running Monte Carlo simulation number 230.\n",
      "Running Monte Carlo simulation number 240.\n",
      "Running Monte Carlo simulation number 250.\n",
      "Running Monte Carlo simulation number 260.\n",
      "Running Monte Carlo simulation number 270.\n",
      "Running Monte Carlo simulation number 280.\n",
      "Running Monte Carlo simulation number 290.\n",
      "Running Monte Carlo simulation number 300.\n",
      "Running Monte Carlo simulation number 310.\n",
      "Running Monte Carlo simulation number 320.\n",
      "Running Monte Carlo simulation number 330.\n",
      "Running Monte Carlo simulation number 340.\n",
      "Running Monte Carlo simulation number 350.\n",
      "Running Monte Carlo simulation number 360.\n",
      "Running Monte Carlo simulation number 370.\n",
      "Running Monte Carlo simulation number 380.\n",
      "Running Monte Carlo simulation number 390.\n",
      "Running Monte Carlo simulation number 400.\n",
      "Running Monte Carlo simulation number 410.\n",
      "Running Monte Carlo simulation number 420.\n",
      "Running Monte Carlo simulation number 430.\n",
      "Running Monte Carlo simulation number 440.\n",
      "Running Monte Carlo simulation number 450.\n",
      "Running Monte Carlo simulation number 460.\n",
      "Running Monte Carlo simulation number 470.\n",
      "Running Monte Carlo simulation number 480.\n",
      "Running Monte Carlo simulation number 490.\n"
     ]
    },
    {
     "data": {
      "text/html": [
       "<div>\n",
       "<style scoped>\n",
       "    .dataframe tbody tr th:only-of-type {\n",
       "        vertical-align: middle;\n",
       "    }\n",
       "\n",
       "    .dataframe tbody tr th {\n",
       "        vertical-align: top;\n",
       "    }\n",
       "\n",
       "    .dataframe thead th {\n",
       "        text-align: right;\n",
       "    }\n",
       "</style>\n",
       "<table border=\"1\" class=\"dataframe\">\n",
       "  <thead>\n",
       "    <tr style=\"text-align: right;\">\n",
       "      <th></th>\n",
       "      <th>0</th>\n",
       "      <th>1</th>\n",
       "      <th>2</th>\n",
       "      <th>3</th>\n",
       "      <th>4</th>\n",
       "      <th>5</th>\n",
       "      <th>6</th>\n",
       "      <th>7</th>\n",
       "      <th>8</th>\n",
       "      <th>9</th>\n",
       "      <th>...</th>\n",
       "      <th>490</th>\n",
       "      <th>491</th>\n",
       "      <th>492</th>\n",
       "      <th>493</th>\n",
       "      <th>494</th>\n",
       "      <th>495</th>\n",
       "      <th>496</th>\n",
       "      <th>497</th>\n",
       "      <th>498</th>\n",
       "      <th>499</th>\n",
       "    </tr>\n",
       "  </thead>\n",
       "  <tbody>\n",
       "    <tr>\n",
       "      <th>0</th>\n",
       "      <td>1.000000</td>\n",
       "      <td>1.000000</td>\n",
       "      <td>1.000000</td>\n",
       "      <td>1.000000</td>\n",
       "      <td>1.000000</td>\n",
       "      <td>1.000000</td>\n",
       "      <td>1.000000</td>\n",
       "      <td>1.000000</td>\n",
       "      <td>1.000000</td>\n",
       "      <td>1.000000</td>\n",
       "      <td>...</td>\n",
       "      <td>1.000000</td>\n",
       "      <td>1.000000</td>\n",
       "      <td>1.000000</td>\n",
       "      <td>1.000000</td>\n",
       "      <td>1.000000</td>\n",
       "      <td>1.000000</td>\n",
       "      <td>1.000000</td>\n",
       "      <td>1.000000</td>\n",
       "      <td>1.000000</td>\n",
       "      <td>1.000000</td>\n",
       "    </tr>\n",
       "    <tr>\n",
       "      <th>1</th>\n",
       "      <td>1.002359</td>\n",
       "      <td>0.998996</td>\n",
       "      <td>1.002216</td>\n",
       "      <td>0.997274</td>\n",
       "      <td>1.007009</td>\n",
       "      <td>0.997958</td>\n",
       "      <td>0.999371</td>\n",
       "      <td>1.005371</td>\n",
       "      <td>1.003386</td>\n",
       "      <td>0.998314</td>\n",
       "      <td>...</td>\n",
       "      <td>0.996795</td>\n",
       "      <td>0.994361</td>\n",
       "      <td>1.005164</td>\n",
       "      <td>0.999284</td>\n",
       "      <td>1.003027</td>\n",
       "      <td>1.003002</td>\n",
       "      <td>1.003342</td>\n",
       "      <td>1.002353</td>\n",
       "      <td>0.999844</td>\n",
       "      <td>0.995686</td>\n",
       "    </tr>\n",
       "    <tr>\n",
       "      <th>2</th>\n",
       "      <td>1.001242</td>\n",
       "      <td>0.995568</td>\n",
       "      <td>1.002279</td>\n",
       "      <td>1.004780</td>\n",
       "      <td>1.015183</td>\n",
       "      <td>0.997047</td>\n",
       "      <td>0.995012</td>\n",
       "      <td>1.008283</td>\n",
       "      <td>1.005852</td>\n",
       "      <td>1.001905</td>\n",
       "      <td>...</td>\n",
       "      <td>0.993507</td>\n",
       "      <td>0.988237</td>\n",
       "      <td>1.007204</td>\n",
       "      <td>0.995787</td>\n",
       "      <td>1.005257</td>\n",
       "      <td>0.997002</td>\n",
       "      <td>1.007801</td>\n",
       "      <td>0.998373</td>\n",
       "      <td>0.997839</td>\n",
       "      <td>0.999430</td>\n",
       "    </tr>\n",
       "    <tr>\n",
       "      <th>3</th>\n",
       "      <td>1.008853</td>\n",
       "      <td>0.997922</td>\n",
       "      <td>1.006148</td>\n",
       "      <td>1.002994</td>\n",
       "      <td>1.018058</td>\n",
       "      <td>0.998246</td>\n",
       "      <td>1.004398</td>\n",
       "      <td>1.012168</td>\n",
       "      <td>1.010207</td>\n",
       "      <td>1.005070</td>\n",
       "      <td>...</td>\n",
       "      <td>0.989165</td>\n",
       "      <td>0.990000</td>\n",
       "      <td>1.002544</td>\n",
       "      <td>0.994011</td>\n",
       "      <td>1.004526</td>\n",
       "      <td>0.997541</td>\n",
       "      <td>1.009184</td>\n",
       "      <td>0.997818</td>\n",
       "      <td>0.993660</td>\n",
       "      <td>1.003490</td>\n",
       "    </tr>\n",
       "    <tr>\n",
       "      <th>4</th>\n",
       "      <td>1.005278</td>\n",
       "      <td>1.000834</td>\n",
       "      <td>1.002533</td>\n",
       "      <td>1.006911</td>\n",
       "      <td>1.020835</td>\n",
       "      <td>0.997200</td>\n",
       "      <td>1.002065</td>\n",
       "      <td>1.011490</td>\n",
       "      <td>1.009685</td>\n",
       "      <td>1.010885</td>\n",
       "      <td>...</td>\n",
       "      <td>0.989652</td>\n",
       "      <td>0.987825</td>\n",
       "      <td>1.003892</td>\n",
       "      <td>0.997764</td>\n",
       "      <td>1.005696</td>\n",
       "      <td>0.998120</td>\n",
       "      <td>1.004224</td>\n",
       "      <td>0.997520</td>\n",
       "      <td>0.996830</td>\n",
       "      <td>0.997938</td>\n",
       "    </tr>\n",
       "    <tr>\n",
       "      <th>...</th>\n",
       "      <td>...</td>\n",
       "      <td>...</td>\n",
       "      <td>...</td>\n",
       "      <td>...</td>\n",
       "      <td>...</td>\n",
       "      <td>...</td>\n",
       "      <td>...</td>\n",
       "      <td>...</td>\n",
       "      <td>...</td>\n",
       "      <td>...</td>\n",
       "      <td>...</td>\n",
       "      <td>...</td>\n",
       "      <td>...</td>\n",
       "      <td>...</td>\n",
       "      <td>...</td>\n",
       "      <td>...</td>\n",
       "      <td>...</td>\n",
       "      <td>...</td>\n",
       "      <td>...</td>\n",
       "      <td>...</td>\n",
       "      <td>...</td>\n",
       "    </tr>\n",
       "    <tr>\n",
       "      <th>7556</th>\n",
       "      <td>17.707780</td>\n",
       "      <td>9.160243</td>\n",
       "      <td>19.707942</td>\n",
       "      <td>15.825503</td>\n",
       "      <td>15.083128</td>\n",
       "      <td>14.054329</td>\n",
       "      <td>27.118484</td>\n",
       "      <td>38.232498</td>\n",
       "      <td>20.610168</td>\n",
       "      <td>22.607653</td>\n",
       "      <td>...</td>\n",
       "      <td>9.311924</td>\n",
       "      <td>33.745230</td>\n",
       "      <td>24.908609</td>\n",
       "      <td>23.944368</td>\n",
       "      <td>14.989688</td>\n",
       "      <td>11.872883</td>\n",
       "      <td>13.638782</td>\n",
       "      <td>20.579871</td>\n",
       "      <td>25.128967</td>\n",
       "      <td>19.591422</td>\n",
       "    </tr>\n",
       "    <tr>\n",
       "      <th>7557</th>\n",
       "      <td>17.724054</td>\n",
       "      <td>9.125349</td>\n",
       "      <td>19.680427</td>\n",
       "      <td>15.844215</td>\n",
       "      <td>15.103433</td>\n",
       "      <td>14.137612</td>\n",
       "      <td>27.013557</td>\n",
       "      <td>37.983706</td>\n",
       "      <td>20.572476</td>\n",
       "      <td>22.501954</td>\n",
       "      <td>...</td>\n",
       "      <td>9.286263</td>\n",
       "      <td>33.639571</td>\n",
       "      <td>24.829822</td>\n",
       "      <td>23.956233</td>\n",
       "      <td>15.033867</td>\n",
       "      <td>11.950310</td>\n",
       "      <td>13.641888</td>\n",
       "      <td>20.621496</td>\n",
       "      <td>25.150548</td>\n",
       "      <td>19.604619</td>\n",
       "    </tr>\n",
       "    <tr>\n",
       "      <th>7558</th>\n",
       "      <td>17.733602</td>\n",
       "      <td>9.152667</td>\n",
       "      <td>19.593811</td>\n",
       "      <td>15.805204</td>\n",
       "      <td>15.122555</td>\n",
       "      <td>14.250408</td>\n",
       "      <td>26.933876</td>\n",
       "      <td>38.039617</td>\n",
       "      <td>20.521623</td>\n",
       "      <td>22.439238</td>\n",
       "      <td>...</td>\n",
       "      <td>9.253353</td>\n",
       "      <td>33.812845</td>\n",
       "      <td>24.820289</td>\n",
       "      <td>23.906329</td>\n",
       "      <td>15.002805</td>\n",
       "      <td>11.979757</td>\n",
       "      <td>13.646637</td>\n",
       "      <td>20.755427</td>\n",
       "      <td>24.902714</td>\n",
       "      <td>19.649842</td>\n",
       "    </tr>\n",
       "    <tr>\n",
       "      <th>7559</th>\n",
       "      <td>17.672935</td>\n",
       "      <td>9.122447</td>\n",
       "      <td>19.605345</td>\n",
       "      <td>15.860819</td>\n",
       "      <td>15.141181</td>\n",
       "      <td>14.281400</td>\n",
       "      <td>27.111078</td>\n",
       "      <td>38.030732</td>\n",
       "      <td>20.699002</td>\n",
       "      <td>22.342350</td>\n",
       "      <td>...</td>\n",
       "      <td>9.241280</td>\n",
       "      <td>33.799357</td>\n",
       "      <td>24.706412</td>\n",
       "      <td>24.047251</td>\n",
       "      <td>15.000506</td>\n",
       "      <td>11.994557</td>\n",
       "      <td>13.633895</td>\n",
       "      <td>20.688367</td>\n",
       "      <td>24.960320</td>\n",
       "      <td>19.612207</td>\n",
       "    </tr>\n",
       "    <tr>\n",
       "      <th>7560</th>\n",
       "      <td>17.734228</td>\n",
       "      <td>9.179857</td>\n",
       "      <td>19.597186</td>\n",
       "      <td>16.001248</td>\n",
       "      <td>15.162770</td>\n",
       "      <td>14.219685</td>\n",
       "      <td>27.118660</td>\n",
       "      <td>38.283873</td>\n",
       "      <td>20.557788</td>\n",
       "      <td>22.209401</td>\n",
       "      <td>...</td>\n",
       "      <td>9.275862</td>\n",
       "      <td>33.765732</td>\n",
       "      <td>24.894741</td>\n",
       "      <td>23.959277</td>\n",
       "      <td>14.980863</td>\n",
       "      <td>11.964872</td>\n",
       "      <td>13.729056</td>\n",
       "      <td>20.725323</td>\n",
       "      <td>25.032584</td>\n",
       "      <td>19.636395</td>\n",
       "    </tr>\n",
       "  </tbody>\n",
       "</table>\n",
       "<p>7561 rows × 500 columns</p>\n",
       "</div>"
      ],
      "text/plain": [
       "            0         1          2          3          4          5    \\\n",
       "0      1.000000  1.000000   1.000000   1.000000   1.000000   1.000000   \n",
       "1      1.002359  0.998996   1.002216   0.997274   1.007009   0.997958   \n",
       "2      1.001242  0.995568   1.002279   1.004780   1.015183   0.997047   \n",
       "3      1.008853  0.997922   1.006148   1.002994   1.018058   0.998246   \n",
       "4      1.005278  1.000834   1.002533   1.006911   1.020835   0.997200   \n",
       "...         ...       ...        ...        ...        ...        ...   \n",
       "7556  17.707780  9.160243  19.707942  15.825503  15.083128  14.054329   \n",
       "7557  17.724054  9.125349  19.680427  15.844215  15.103433  14.137612   \n",
       "7558  17.733602  9.152667  19.593811  15.805204  15.122555  14.250408   \n",
       "7559  17.672935  9.122447  19.605345  15.860819  15.141181  14.281400   \n",
       "7560  17.734228  9.179857  19.597186  16.001248  15.162770  14.219685   \n",
       "\n",
       "            6          7          8          9    ...       490        491  \\\n",
       "0      1.000000   1.000000   1.000000   1.000000  ...  1.000000   1.000000   \n",
       "1      0.999371   1.005371   1.003386   0.998314  ...  0.996795   0.994361   \n",
       "2      0.995012   1.008283   1.005852   1.001905  ...  0.993507   0.988237   \n",
       "3      1.004398   1.012168   1.010207   1.005070  ...  0.989165   0.990000   \n",
       "4      1.002065   1.011490   1.009685   1.010885  ...  0.989652   0.987825   \n",
       "...         ...        ...        ...        ...  ...       ...        ...   \n",
       "7556  27.118484  38.232498  20.610168  22.607653  ...  9.311924  33.745230   \n",
       "7557  27.013557  37.983706  20.572476  22.501954  ...  9.286263  33.639571   \n",
       "7558  26.933876  38.039617  20.521623  22.439238  ...  9.253353  33.812845   \n",
       "7559  27.111078  38.030732  20.699002  22.342350  ...  9.241280  33.799357   \n",
       "7560  27.118660  38.283873  20.557788  22.209401  ...  9.275862  33.765732   \n",
       "\n",
       "            492        493        494        495        496        497  \\\n",
       "0      1.000000   1.000000   1.000000   1.000000   1.000000   1.000000   \n",
       "1      1.005164   0.999284   1.003027   1.003002   1.003342   1.002353   \n",
       "2      1.007204   0.995787   1.005257   0.997002   1.007801   0.998373   \n",
       "3      1.002544   0.994011   1.004526   0.997541   1.009184   0.997818   \n",
       "4      1.003892   0.997764   1.005696   0.998120   1.004224   0.997520   \n",
       "...         ...        ...        ...        ...        ...        ...   \n",
       "7556  24.908609  23.944368  14.989688  11.872883  13.638782  20.579871   \n",
       "7557  24.829822  23.956233  15.033867  11.950310  13.641888  20.621496   \n",
       "7558  24.820289  23.906329  15.002805  11.979757  13.646637  20.755427   \n",
       "7559  24.706412  24.047251  15.000506  11.994557  13.633895  20.688367   \n",
       "7560  24.894741  23.959277  14.980863  11.964872  13.729056  20.725323   \n",
       "\n",
       "            498        499  \n",
       "0      1.000000   1.000000  \n",
       "1      0.999844   0.995686  \n",
       "2      0.997839   0.999430  \n",
       "3      0.993660   1.003490  \n",
       "4      0.996830   0.997938  \n",
       "...         ...        ...  \n",
       "7556  25.128967  19.591422  \n",
       "7557  25.150548  19.604619  \n",
       "7558  24.902714  19.649842  \n",
       "7559  24.960320  19.612207  \n",
       "7560  25.032584  19.636395  \n",
       "\n",
       "[7561 rows x 500 columns]"
      ]
     },
     "execution_count": 32,
     "metadata": {},
     "output_type": "execute_result"
    }
   ],
   "source": [
    "# Run the Monte Carlo simulation to forecast 30 years cumulative returns\n",
    "MC_30_years.calc_cumulative_return()\n"
   ]
  },
  {
   "cell_type": "code",
   "execution_count": 33,
   "metadata": {},
   "outputs": [
    {
     "data": {
      "image/png": "[encoded data removed]",
      "text/plain": [
       "<Figure size 432x288 with 1 Axes>"
      ]
     },
     "metadata": {
      "needs_background": "light"
     },
     "output_type": "display_data"
    }
   ],
   "source": [
    "# Visualize the 30-year Monte Carlo simulation by creating an\n",
    "# overlay line plot\n",
    "\n",
    "MC_sim_line_plot = MC_30_years.plot_simulation()\n",
    "\n",
    "# Save the plot for future use\n",
    "MC_sim_line_plot.get_figure().savefig(\"MC_30_years_sim_plot.png\", bbox_inches=\"tight\")"
   ]
  },
  {
   "cell_type": "markdown",
   "metadata": {},
   "source": [
    "#### Step 3: Plot the probability distribution of the Monte Carlo simulation."
   ]
  },
  {
   "cell_type": "code",
   "execution_count": 34,
   "metadata": {},
   "outputs": [
    {
     "data": {
      "image/png": "[encoded data removed]",
      "text/plain": [
       "<Figure size 432x288 with 1 Axes>"
      ]
     },
     "metadata": {
      "needs_background": "light"
     },
     "output_type": "display_data"
    }
   ],
   "source": [
    "# Visualize the probability distribution of the 30-year Monte Carlo simulation \n",
    "# by plotting a histogram\n",
    "\n",
    "MC_sim_dist_plot = MC_30_years.plot_distribution()\n",
    "\n",
    "# Save the plot for future use\n",
    "MC_sim_dist_plot.get_figure().savefig('MC_30_years_dist_plot.png',bbox_inches='tight')\n"
   ]
  },
  {
   "cell_type": "markdown",
   "metadata": {},
   "source": [
    "#### Step 4: Generate the summary statistics for the Monte Carlo simulation."
   ]
  },
  {
   "cell_type": "code",
   "execution_count": 35,
   "metadata": {},
   "outputs": [
    {
     "name": "stdout",
     "output_type": "stream",
     "text": [
      "count           500.000000\n",
      "mean             20.015972\n",
      "std               6.534589\n",
      "min               7.473779\n",
      "25%              15.510938\n",
      "50%              19.339139\n",
      "75%              23.444650\n",
      "max              53.539861\n",
      "95% CI Lower      9.193759\n",
      "95% CI Upper     36.628314\n",
      "Name: 7560, dtype: float64\n"
     ]
    }
   ],
   "source": [
    "# Generate summary statistics from the 30-year Monte Carlo simulation results\n",
    "# Save the results as a variable\n",
    "MC_summary_statistics = MC_30_years.summarize_cumulative_return()\n",
    "\n",
    "# Review the 30-year Monte Carlo summary statistics\n",
    "print(MC_summary_statistics)"
   ]
  },
  {
   "cell_type": "code",
   "execution_count": null,
   "metadata": {},
   "outputs": [],
   "source": []
  },
  {
   "cell_type": "markdown",
   "metadata": {},
   "source": [
    "### Analyze the Retirement Portfolio Forecasts\n",
    "\n",
    "Using the current value of only the stock and bond portion of the member's portfolio and the summary statistics that you generated from the Monte Carlo simulation, answer the following question in your Jupyter notebook:\n",
    "\n",
    "-  What are the lower and upper bounds for the expected value of the portfolio with a 95% confidence interval?\n"
   ]
  },
  {
   "cell_type": "code",
   "execution_count": 36,
   "metadata": {},
   "outputs": [
    {
     "name": "stdout",
     "output_type": "stream",
     "text": [
      "60689.5\n"
     ]
    }
   ],
   "source": [
    "# Print the current balance of the stock and bond portion of the members portfolio\n",
    "print(total_stocks_bonds)\n"
   ]
  },
  {
   "cell_type": "code",
   "execution_count": 40,
   "metadata": {},
   "outputs": [
    {
     "name": "stdout",
     "output_type": "stream",
     "text": [
      "There is a 95% chance that an initial investment of $60689.5 in the portfolio over the next 30 years will end within in the range of $ 557964.65 and $ 2222954.07.\n"
     ]
    }
   ],
   "source": [
    "# Use the lower and upper `95%` confidence intervals to calculate the range of the possible outcomes for the current stock/bond portfolio\n",
    "ci_95_lower_cumulative_return = MC_summary_statistics[8] * total_stocks_bonds\n",
    "ci_95_upper_cumulative_return = MC_summary_statistics[9] * total_stocks_bonds\n",
    "\n",
    "# Print the result of your calculations\n",
    "\n",
    "print(f\"There is a 95% chance that an initial investment of $60689.5 in the portfolio\"\n",
    "    f\" over the next 30 years will end within in the range of\"\n",
    "    f\" ${ci_95_lower_cumulative_return: .2f} and ${ci_95_upper_cumulative_return: .2f}.\")\n"
   ]
  },
  {
   "cell_type": "markdown",
   "metadata": {},
   "source": [
    "### Forecast Cumulative Returns in 10 Years\n",
    "\n",
    "The CTO of the credit union is impressed with your work on these planning tools but wonders if 30 years is a long time to wait until retirement. So, your next task is to adjust the retirement portfolio and run a new Monte Carlo simulation to find out if the changes will allow members to retire earlier.\n",
    "\n",
    "For this new Monte Carlo simulation, do the following: \n",
    "\n",
    "- Forecast the cumulative returns for 10 years from now. Because of the shortened investment horizon (30 years to 10 years), the portfolio needs to invest more heavily in the riskier asset&mdash;that is, stock&mdash;to help accumulate wealth for retirement. \n",
    "\n",
    "- Adjust the weights of the retirement portfolio so that the composition for the Monte Carlo simulation consists of 20% bonds and 80% stocks. \n",
    "\n",
    "- Run the simulation over 500 samples, and use the same data that the API call to Alpaca generated.\n",
    "\n",
    "- Based on the new Monte Carlo simulation, answer the following questions in your Jupyter notebook:\n",
    "\n",
    "    - Using the current value of only the stock and bond portion of the member's portfolio and the summary statistics that you generated from the new Monte Carlo simulation, what are the lower and upper bounds for the expected value of the portfolio (with the new weights) with a 95% confidence interval?\n",
    "\n",
    "    - Will weighting the portfolio more heavily toward stocks allow the credit union members to retire after only 10 years?\n"
   ]
  },
  {
   "cell_type": "code",
   "execution_count": 39,
   "metadata": {},
   "outputs": [
    {
     "data": {
      "text/html": [
       "<div>\n",
       "<style scoped>\n",
       "    .dataframe tbody tr th:only-of-type {\n",
       "        vertical-align: middle;\n",
       "    }\n",
       "\n",
       "    .dataframe tbody tr th {\n",
       "        vertical-align: top;\n",
       "    }\n",
       "\n",
       "    .dataframe thead tr th {\n",
       "        text-align: left;\n",
       "    }\n",
       "\n",
       "    .dataframe thead tr:last-of-type th {\n",
       "        text-align: right;\n",
       "    }\n",
       "</style>\n",
       "<table border=\"1\" class=\"dataframe\">\n",
       "  <thead>\n",
       "    <tr>\n",
       "      <th></th>\n",
       "      <th colspan=\"6\" halign=\"left\">AGG</th>\n",
       "      <th colspan=\"6\" halign=\"left\">SPY</th>\n",
       "    </tr>\n",
       "    <tr>\n",
       "      <th></th>\n",
       "      <th>open</th>\n",
       "      <th>high</th>\n",
       "      <th>low</th>\n",
       "      <th>close</th>\n",
       "      <th>volume</th>\n",
       "      <th>daily_return</th>\n",
       "      <th>open</th>\n",
       "      <th>high</th>\n",
       "      <th>low</th>\n",
       "      <th>close</th>\n",
       "      <th>volume</th>\n",
       "      <th>daily_return</th>\n",
       "    </tr>\n",
       "    <tr>\n",
       "      <th>time</th>\n",
       "      <th></th>\n",
       "      <th></th>\n",
       "      <th></th>\n",
       "      <th></th>\n",
       "      <th></th>\n",
       "      <th></th>\n",
       "      <th></th>\n",
       "      <th></th>\n",
       "      <th></th>\n",
       "      <th></th>\n",
       "      <th></th>\n",
       "      <th></th>\n",
       "    </tr>\n",
       "  </thead>\n",
       "  <tbody>\n",
       "    <tr>\n",
       "      <th>2020-11-30 00:00:00-05:00</th>\n",
       "      <td>118.32</td>\n",
       "      <td>118.45</td>\n",
       "      <td>118.2500</td>\n",
       "      <td>118.400</td>\n",
       "      <td>5231566</td>\n",
       "      <td>NaN</td>\n",
       "      <td>362.83</td>\n",
       "      <td>363.12</td>\n",
       "      <td>359.17</td>\n",
       "      <td>362.0000</td>\n",
       "      <td>67154075</td>\n",
       "      <td>NaN</td>\n",
       "    </tr>\n",
       "    <tr>\n",
       "      <th>2020-12-01 00:00:00-05:00</th>\n",
       "      <td>118.03</td>\n",
       "      <td>118.10</td>\n",
       "      <td>117.7300</td>\n",
       "      <td>117.840</td>\n",
       "      <td>4308362</td>\n",
       "      <td>-0.004730</td>\n",
       "      <td>365.57</td>\n",
       "      <td>367.68</td>\n",
       "      <td>364.93</td>\n",
       "      <td>365.9700</td>\n",
       "      <td>64527332</td>\n",
       "      <td>0.010967</td>\n",
       "    </tr>\n",
       "    <tr>\n",
       "      <th>2020-12-02 00:00:00-05:00</th>\n",
       "      <td>117.81</td>\n",
       "      <td>117.81</td>\n",
       "      <td>117.5400</td>\n",
       "      <td>117.705</td>\n",
       "      <td>5554915</td>\n",
       "      <td>-0.001146</td>\n",
       "      <td>364.82</td>\n",
       "      <td>366.96</td>\n",
       "      <td>364.20</td>\n",
       "      <td>366.7599</td>\n",
       "      <td>37323404</td>\n",
       "      <td>0.002158</td>\n",
       "    </tr>\n",
       "    <tr>\n",
       "      <th>2020-12-03 00:00:00-05:00</th>\n",
       "      <td>117.92</td>\n",
       "      <td>117.98</td>\n",
       "      <td>117.7650</td>\n",
       "      <td>117.910</td>\n",
       "      <td>5210910</td>\n",
       "      <td>0.001742</td>\n",
       "      <td>366.68</td>\n",
       "      <td>368.19</td>\n",
       "      <td>365.50</td>\n",
       "      <td>366.6698</td>\n",
       "      <td>52905586</td>\n",
       "      <td>-0.000246</td>\n",
       "    </tr>\n",
       "    <tr>\n",
       "      <th>2020-12-04 00:00:00-05:00</th>\n",
       "      <td>117.90</td>\n",
       "      <td>117.90</td>\n",
       "      <td>117.5133</td>\n",
       "      <td>117.580</td>\n",
       "      <td>4821820</td>\n",
       "      <td>-0.002799</td>\n",
       "      <td>367.32</td>\n",
       "      <td>369.85</td>\n",
       "      <td>367.22</td>\n",
       "      <td>369.8300</td>\n",
       "      <td>40264568</td>\n",
       "      <td>0.008619</td>\n",
       "    </tr>\n",
       "  </tbody>\n",
       "</table>\n",
       "</div>"
      ],
      "text/plain": [
       "                              AGG                                      \\\n",
       "                             open    high       low    close   volume   \n",
       "time                                                                    \n",
       "2020-11-30 00:00:00-05:00  118.32  118.45  118.2500  118.400  5231566   \n",
       "2020-12-01 00:00:00-05:00  118.03  118.10  117.7300  117.840  4308362   \n",
       "2020-12-02 00:00:00-05:00  117.81  117.81  117.5400  117.705  5554915   \n",
       "2020-12-03 00:00:00-05:00  117.92  117.98  117.7650  117.910  5210910   \n",
       "2020-12-04 00:00:00-05:00  117.90  117.90  117.5133  117.580  4821820   \n",
       "\n",
       "                                           SPY                            \\\n",
       "                          daily_return    open    high     low     close   \n",
       "time                                                                       \n",
       "2020-11-30 00:00:00-05:00          NaN  362.83  363.12  359.17  362.0000   \n",
       "2020-12-01 00:00:00-05:00    -0.004730  365.57  367.68  364.93  365.9700   \n",
       "2020-12-02 00:00:00-05:00    -0.001146  364.82  366.96  364.20  366.7599   \n",
       "2020-12-03 00:00:00-05:00     0.001742  366.68  368.19  365.50  366.6698   \n",
       "2020-12-04 00:00:00-05:00    -0.002799  367.32  369.85  367.22  369.8300   \n",
       "\n",
       "                                                  \n",
       "                             volume daily_return  \n",
       "time                                              \n",
       "2020-11-30 00:00:00-05:00  67154075          NaN  \n",
       "2020-12-01 00:00:00-05:00  64527332     0.010967  \n",
       "2020-12-02 00:00:00-05:00  37323404     0.002158  \n",
       "2020-12-03 00:00:00-05:00  52905586    -0.000246  \n",
       "2020-12-04 00:00:00-05:00  40264568     0.008619  "
      ]
     },
     "execution_count": 39,
     "metadata": {},
     "output_type": "execute_result"
    }
   ],
   "source": [
    "# Configure a Monte Carlo simulation to forecast 10 years cumulative returns\n",
    "# The weights should be split 20% to AGG and 80% to SPY.\n",
    "# Run 500 samples.\n",
    "MC_10_years = MCSimulation(\n",
    "    portfolio_data = prices_df,\n",
    "    weights = [.20,.80],\n",
    "    num_simulation = 500,\n",
    "    num_trading_days = 252*10\n",
    ")\n",
    "\n",
    "# Review the simulation input data\n",
    "MC_10_years.portfolio_data.head()"
   ]
  },
  {
   "cell_type": "code",
   "execution_count": 41,
   "metadata": {},
   "outputs": [
    {
     "name": "stdout",
     "output_type": "stream",
     "text": [
      "Running Monte Carlo simulation number 0.\n",
      "Running Monte Carlo simulation number 10.\n",
      "Running Monte Carlo simulation number 20.\n",
      "Running Monte Carlo simulation number 30.\n",
      "Running Monte Carlo simulation number 40.\n",
      "Running Monte Carlo simulation number 50.\n",
      "Running Monte Carlo simulation number 60.\n",
      "Running Monte Carlo simulation number 70.\n",
      "Running Monte Carlo simulation number 80.\n",
      "Running Monte Carlo simulation number 90.\n",
      "Running Monte Carlo simulation number 100.\n",
      "Running Monte Carlo simulation number 110.\n",
      "Running Monte Carlo simulation number 120.\n",
      "Running Monte Carlo simulation number 130.\n",
      "Running Monte Carlo simulation number 140.\n",
      "Running Monte Carlo simulation number 150.\n",
      "Running Monte Carlo simulation number 160.\n",
      "Running Monte Carlo simulation number 170.\n",
      "Running Monte Carlo simulation number 180.\n",
      "Running Monte Carlo simulation number 190.\n",
      "Running Monte Carlo simulation number 200.\n",
      "Running Monte Carlo simulation number 210.\n",
      "Running Monte Carlo simulation number 220.\n",
      "Running Monte Carlo simulation number 230.\n",
      "Running Monte Carlo simulation number 240.\n",
      "Running Monte Carlo simulation number 250.\n",
      "Running Monte Carlo simulation number 260.\n",
      "Running Monte Carlo simulation number 270.\n",
      "Running Monte Carlo simulation number 280.\n",
      "Running Monte Carlo simulation number 290.\n",
      "Running Monte Carlo simulation number 300.\n",
      "Running Monte Carlo simulation number 310.\n",
      "Running Monte Carlo simulation number 320.\n",
      "Running Monte Carlo simulation number 330.\n",
      "Running Monte Carlo simulation number 340.\n",
      "Running Monte Carlo simulation number 350.\n",
      "Running Monte Carlo simulation number 360.\n",
      "Running Monte Carlo simulation number 370.\n",
      "Running Monte Carlo simulation number 380.\n",
      "Running Monte Carlo simulation number 390.\n",
      "Running Monte Carlo simulation number 400.\n",
      "Running Monte Carlo simulation number 410.\n",
      "Running Monte Carlo simulation number 420.\n",
      "Running Monte Carlo simulation number 430.\n",
      "Running Monte Carlo simulation number 440.\n",
      "Running Monte Carlo simulation number 450.\n",
      "Running Monte Carlo simulation number 460.\n",
      "Running Monte Carlo simulation number 470.\n",
      "Running Monte Carlo simulation number 480.\n",
      "Running Monte Carlo simulation number 490.\n"
     ]
    },
    {
     "data": {
      "text/html": [
       "<div>\n",
       "<style scoped>\n",
       "    .dataframe tbody tr th:only-of-type {\n",
       "        vertical-align: middle;\n",
       "    }\n",
       "\n",
       "    .dataframe tbody tr th {\n",
       "        vertical-align: top;\n",
       "    }\n",
       "\n",
       "    .dataframe thead th {\n",
       "        text-align: right;\n",
       "    }\n",
       "</style>\n",
       "<table border=\"1\" class=\"dataframe\">\n",
       "  <thead>\n",
       "    <tr style=\"text-align: right;\">\n",
       "      <th></th>\n",
       "      <th>0</th>\n",
       "      <th>1</th>\n",
       "      <th>2</th>\n",
       "      <th>3</th>\n",
       "      <th>4</th>\n",
       "      <th>5</th>\n",
       "      <th>6</th>\n",
       "      <th>7</th>\n",
       "      <th>8</th>\n",
       "      <th>9</th>\n",
       "      <th>...</th>\n",
       "      <th>490</th>\n",
       "      <th>491</th>\n",
       "      <th>492</th>\n",
       "      <th>493</th>\n",
       "      <th>494</th>\n",
       "      <th>495</th>\n",
       "      <th>496</th>\n",
       "      <th>497</th>\n",
       "      <th>498</th>\n",
       "      <th>499</th>\n",
       "    </tr>\n",
       "  </thead>\n",
       "  <tbody>\n",
       "    <tr>\n",
       "      <th>0</th>\n",
       "      <td>1.000000</td>\n",
       "      <td>1.000000</td>\n",
       "      <td>1.000000</td>\n",
       "      <td>1.000000</td>\n",
       "      <td>1.000000</td>\n",
       "      <td>1.000000</td>\n",
       "      <td>1.000000</td>\n",
       "      <td>1.000000</td>\n",
       "      <td>1.000000</td>\n",
       "      <td>1.000000</td>\n",
       "      <td>...</td>\n",
       "      <td>1.000000</td>\n",
       "      <td>1.000000</td>\n",
       "      <td>1.000000</td>\n",
       "      <td>1.000000</td>\n",
       "      <td>1.000000</td>\n",
       "      <td>1.000000</td>\n",
       "      <td>1.000000</td>\n",
       "      <td>1.000000</td>\n",
       "      <td>1.000000</td>\n",
       "      <td>1.000000</td>\n",
       "    </tr>\n",
       "    <tr>\n",
       "      <th>1</th>\n",
       "      <td>1.003677</td>\n",
       "      <td>1.000214</td>\n",
       "      <td>1.003681</td>\n",
       "      <td>1.000449</td>\n",
       "      <td>1.003304</td>\n",
       "      <td>1.006699</td>\n",
       "      <td>1.002609</td>\n",
       "      <td>1.007626</td>\n",
       "      <td>1.002539</td>\n",
       "      <td>1.006392</td>\n",
       "      <td>...</td>\n",
       "      <td>0.995642</td>\n",
       "      <td>1.002734</td>\n",
       "      <td>0.992866</td>\n",
       "      <td>0.992754</td>\n",
       "      <td>0.994733</td>\n",
       "      <td>1.000476</td>\n",
       "      <td>1.003450</td>\n",
       "      <td>1.015790</td>\n",
       "      <td>1.008722</td>\n",
       "      <td>1.003431</td>\n",
       "    </tr>\n",
       "    <tr>\n",
       "      <th>2</th>\n",
       "      <td>0.999407</td>\n",
       "      <td>0.990388</td>\n",
       "      <td>1.004359</td>\n",
       "      <td>0.986953</td>\n",
       "      <td>0.992574</td>\n",
       "      <td>1.003794</td>\n",
       "      <td>1.005394</td>\n",
       "      <td>1.009711</td>\n",
       "      <td>1.002605</td>\n",
       "      <td>1.007655</td>\n",
       "      <td>...</td>\n",
       "      <td>1.005295</td>\n",
       "      <td>1.000488</td>\n",
       "      <td>0.994740</td>\n",
       "      <td>0.998155</td>\n",
       "      <td>1.006819</td>\n",
       "      <td>1.013930</td>\n",
       "      <td>1.010527</td>\n",
       "      <td>1.024268</td>\n",
       "      <td>1.012750</td>\n",
       "      <td>0.993952</td>\n",
       "    </tr>\n",
       "    <tr>\n",
       "      <th>3</th>\n",
       "      <td>0.989935</td>\n",
       "      <td>0.993097</td>\n",
       "      <td>0.995873</td>\n",
       "      <td>0.988093</td>\n",
       "      <td>1.000105</td>\n",
       "      <td>1.003133</td>\n",
       "      <td>1.016603</td>\n",
       "      <td>1.020056</td>\n",
       "      <td>1.012844</td>\n",
       "      <td>1.012633</td>\n",
       "      <td>...</td>\n",
       "      <td>1.000517</td>\n",
       "      <td>1.010515</td>\n",
       "      <td>1.001444</td>\n",
       "      <td>0.992925</td>\n",
       "      <td>1.002518</td>\n",
       "      <td>1.026752</td>\n",
       "      <td>1.011332</td>\n",
       "      <td>1.025674</td>\n",
       "      <td>1.016819</td>\n",
       "      <td>1.000542</td>\n",
       "    </tr>\n",
       "    <tr>\n",
       "      <th>4</th>\n",
       "      <td>0.984170</td>\n",
       "      <td>0.984565</td>\n",
       "      <td>0.996969</td>\n",
       "      <td>0.990609</td>\n",
       "      <td>0.995942</td>\n",
       "      <td>0.995102</td>\n",
       "      <td>1.014321</td>\n",
       "      <td>1.023150</td>\n",
       "      <td>1.020737</td>\n",
       "      <td>1.016030</td>\n",
       "      <td>...</td>\n",
       "      <td>0.997786</td>\n",
       "      <td>1.014308</td>\n",
       "      <td>1.002690</td>\n",
       "      <td>0.987752</td>\n",
       "      <td>0.990361</td>\n",
       "      <td>1.032185</td>\n",
       "      <td>1.008643</td>\n",
       "      <td>1.030342</td>\n",
       "      <td>1.016918</td>\n",
       "      <td>1.000725</td>\n",
       "    </tr>\n",
       "    <tr>\n",
       "      <th>...</th>\n",
       "      <td>...</td>\n",
       "      <td>...</td>\n",
       "      <td>...</td>\n",
       "      <td>...</td>\n",
       "      <td>...</td>\n",
       "      <td>...</td>\n",
       "      <td>...</td>\n",
       "      <td>...</td>\n",
       "      <td>...</td>\n",
       "      <td>...</td>\n",
       "      <td>...</td>\n",
       "      <td>...</td>\n",
       "      <td>...</td>\n",
       "      <td>...</td>\n",
       "      <td>...</td>\n",
       "      <td>...</td>\n",
       "      <td>...</td>\n",
       "      <td>...</td>\n",
       "      <td>...</td>\n",
       "      <td>...</td>\n",
       "      <td>...</td>\n",
       "    </tr>\n",
       "    <tr>\n",
       "      <th>2516</th>\n",
       "      <td>16.112738</td>\n",
       "      <td>11.819818</td>\n",
       "      <td>20.577978</td>\n",
       "      <td>11.142319</td>\n",
       "      <td>17.708713</td>\n",
       "      <td>13.292849</td>\n",
       "      <td>18.017152</td>\n",
       "      <td>24.417976</td>\n",
       "      <td>15.841006</td>\n",
       "      <td>32.424988</td>\n",
       "      <td>...</td>\n",
       "      <td>13.309386</td>\n",
       "      <td>10.959478</td>\n",
       "      <td>22.485551</td>\n",
       "      <td>15.179202</td>\n",
       "      <td>19.263646</td>\n",
       "      <td>7.036831</td>\n",
       "      <td>20.301090</td>\n",
       "      <td>13.525247</td>\n",
       "      <td>25.780116</td>\n",
       "      <td>25.440075</td>\n",
       "    </tr>\n",
       "    <tr>\n",
       "      <th>2517</th>\n",
       "      <td>15.992543</td>\n",
       "      <td>11.816960</td>\n",
       "      <td>20.587370</td>\n",
       "      <td>11.149213</td>\n",
       "      <td>17.715083</td>\n",
       "      <td>13.174712</td>\n",
       "      <td>17.767562</td>\n",
       "      <td>24.257218</td>\n",
       "      <td>15.901622</td>\n",
       "      <td>32.423859</td>\n",
       "      <td>...</td>\n",
       "      <td>13.477433</td>\n",
       "      <td>10.830317</td>\n",
       "      <td>22.423410</td>\n",
       "      <td>15.207962</td>\n",
       "      <td>19.419611</td>\n",
       "      <td>6.997348</td>\n",
       "      <td>20.363568</td>\n",
       "      <td>13.608807</td>\n",
       "      <td>25.833836</td>\n",
       "      <td>25.332203</td>\n",
       "    </tr>\n",
       "    <tr>\n",
       "      <th>2518</th>\n",
       "      <td>15.978196</td>\n",
       "      <td>11.911569</td>\n",
       "      <td>20.512780</td>\n",
       "      <td>11.123876</td>\n",
       "      <td>17.549195</td>\n",
       "      <td>13.033488</td>\n",
       "      <td>17.847240</td>\n",
       "      <td>24.136652</td>\n",
       "      <td>15.929179</td>\n",
       "      <td>32.324530</td>\n",
       "      <td>...</td>\n",
       "      <td>13.529375</td>\n",
       "      <td>10.770179</td>\n",
       "      <td>22.685307</td>\n",
       "      <td>15.162302</td>\n",
       "      <td>19.321182</td>\n",
       "      <td>7.061707</td>\n",
       "      <td>20.237397</td>\n",
       "      <td>13.480860</td>\n",
       "      <td>25.884834</td>\n",
       "      <td>25.270824</td>\n",
       "    </tr>\n",
       "    <tr>\n",
       "      <th>2519</th>\n",
       "      <td>15.964115</td>\n",
       "      <td>12.004045</td>\n",
       "      <td>20.247577</td>\n",
       "      <td>11.086054</td>\n",
       "      <td>17.813884</td>\n",
       "      <td>13.079037</td>\n",
       "      <td>17.918617</td>\n",
       "      <td>24.173318</td>\n",
       "      <td>15.882334</td>\n",
       "      <td>32.274670</td>\n",
       "      <td>...</td>\n",
       "      <td>13.695350</td>\n",
       "      <td>10.767574</td>\n",
       "      <td>22.646092</td>\n",
       "      <td>15.274233</td>\n",
       "      <td>19.344254</td>\n",
       "      <td>7.064337</td>\n",
       "      <td>20.417523</td>\n",
       "      <td>13.652873</td>\n",
       "      <td>26.110437</td>\n",
       "      <td>25.279956</td>\n",
       "    </tr>\n",
       "    <tr>\n",
       "      <th>2520</th>\n",
       "      <td>15.739291</td>\n",
       "      <td>11.935960</td>\n",
       "      <td>20.476125</td>\n",
       "      <td>11.101386</td>\n",
       "      <td>17.784882</td>\n",
       "      <td>13.104879</td>\n",
       "      <td>17.991172</td>\n",
       "      <td>24.129399</td>\n",
       "      <td>16.162089</td>\n",
       "      <td>32.692863</td>\n",
       "      <td>...</td>\n",
       "      <td>13.664544</td>\n",
       "      <td>10.693707</td>\n",
       "      <td>22.853001</td>\n",
       "      <td>15.314544</td>\n",
       "      <td>19.096378</td>\n",
       "      <td>7.136694</td>\n",
       "      <td>20.609385</td>\n",
       "      <td>13.683824</td>\n",
       "      <td>26.217294</td>\n",
       "      <td>25.323135</td>\n",
       "    </tr>\n",
       "  </tbody>\n",
       "</table>\n",
       "<p>2521 rows × 500 columns</p>\n",
       "</div>"
      ],
      "text/plain": [
       "            0          1          2          3          4          5    \\\n",
       "0      1.000000   1.000000   1.000000   1.000000   1.000000   1.000000   \n",
       "1      1.003677   1.000214   1.003681   1.000449   1.003304   1.006699   \n",
       "2      0.999407   0.990388   1.004359   0.986953   0.992574   1.003794   \n",
       "3      0.989935   0.993097   0.995873   0.988093   1.000105   1.003133   \n",
       "4      0.984170   0.984565   0.996969   0.990609   0.995942   0.995102   \n",
       "...         ...        ...        ...        ...        ...        ...   \n",
       "2516  16.112738  11.819818  20.577978  11.142319  17.708713  13.292849   \n",
       "2517  15.992543  11.816960  20.587370  11.149213  17.715083  13.174712   \n",
       "2518  15.978196  11.911569  20.512780  11.123876  17.549195  13.033488   \n",
       "2519  15.964115  12.004045  20.247577  11.086054  17.813884  13.079037   \n",
       "2520  15.739291  11.935960  20.476125  11.101386  17.784882  13.104879   \n",
       "\n",
       "            6          7          8          9    ...        490        491  \\\n",
       "0      1.000000   1.000000   1.000000   1.000000  ...   1.000000   1.000000   \n",
       "1      1.002609   1.007626   1.002539   1.006392  ...   0.995642   1.002734   \n",
       "2      1.005394   1.009711   1.002605   1.007655  ...   1.005295   1.000488   \n",
       "3      1.016603   1.020056   1.012844   1.012633  ...   1.000517   1.010515   \n",
       "4      1.014321   1.023150   1.020737   1.016030  ...   0.997786   1.014308   \n",
       "...         ...        ...        ...        ...  ...        ...        ...   \n",
       "2516  18.017152  24.417976  15.841006  32.424988  ...  13.309386  10.959478   \n",
       "2517  17.767562  24.257218  15.901622  32.423859  ...  13.477433  10.830317   \n",
       "2518  17.847240  24.136652  15.929179  32.324530  ...  13.529375  10.770179   \n",
       "2519  17.918617  24.173318  15.882334  32.274670  ...  13.695350  10.767574   \n",
       "2520  17.991172  24.129399  16.162089  32.692863  ...  13.664544  10.693707   \n",
       "\n",
       "            492        493        494       495        496        497  \\\n",
       "0      1.000000   1.000000   1.000000  1.000000   1.000000   1.000000   \n",
       "1      0.992866   0.992754   0.994733  1.000476   1.003450   1.015790   \n",
       "2      0.994740   0.998155   1.006819  1.013930   1.010527   1.024268   \n",
       "3      1.001444   0.992925   1.002518  1.026752   1.011332   1.025674   \n",
       "4      1.002690   0.987752   0.990361  1.032185   1.008643   1.030342   \n",
       "...         ...        ...        ...       ...        ...        ...   \n",
       "2516  22.485551  15.179202  19.263646  7.036831  20.301090  13.525247   \n",
       "2517  22.423410  15.207962  19.419611  6.997348  20.363568  13.608807   \n",
       "2518  22.685307  15.162302  19.321182  7.061707  20.237397  13.480860   \n",
       "2519  22.646092  15.274233  19.344254  7.064337  20.417523  13.652873   \n",
       "2520  22.853001  15.314544  19.096378  7.136694  20.609385  13.683824   \n",
       "\n",
       "            498        499  \n",
       "0      1.000000   1.000000  \n",
       "1      1.008722   1.003431  \n",
       "2      1.012750   0.993952  \n",
       "3      1.016819   1.000542  \n",
       "4      1.016918   1.000725  \n",
       "...         ...        ...  \n",
       "2516  25.780116  25.440075  \n",
       "2517  25.833836  25.332203  \n",
       "2518  25.884834  25.270824  \n",
       "2519  26.110437  25.279956  \n",
       "2520  26.217294  25.323135  \n",
       "\n",
       "[2521 rows x 500 columns]"
      ]
     },
     "execution_count": 41,
     "metadata": {},
     "output_type": "execute_result"
    }
   ],
   "source": [
    "# Run the Monte Carlo simulation to forecast 10 years cumulative returns\n",
    "MC_10_years.calc_cumulative_return()\n"
   ]
  },
  {
   "cell_type": "code",
   "execution_count": 47,
   "metadata": {},
   "outputs": [
    {
     "data": {
      "image/png": "[encoded data removed]",
      "text/plain": [
       "<Figure size 432x288 with 1 Axes>"
      ]
     },
     "metadata": {
      "needs_background": "light"
     },
     "output_type": "display_data"
    }
   ],
   "source": [
    "# Visualize the 10-year Monte Carlo simulation by creating an\n",
    "# overlay line plot\n",
    "MC_10_sim_dist_plot = MC_10_years.plot_simulation()\n",
    "\n",
    "# Save the plot for future use\n",
    "MC_10_sim_dist_plot.get_figure().savefig('MC_10_years_dist_plot.png',bbox_inches='tight')\n"
   ]
  },
  {
   "cell_type": "code",
   "execution_count": 43,
   "metadata": {},
   "outputs": [
    {
     "data": {
      "image/png": "[encoded data removed]",
      "text/plain": [
       "<Figure size 432x288 with 1 Axes>"
      ]
     },
     "metadata": {
      "needs_background": "light"
     },
     "output_type": "display_data"
    }
   ],
   "source": [
    "# Visualize the probability distribution of the 10-year Monte Carlo simulation \n",
    "# by plotting a histogram\n",
    "\n",
    "MC_10_sim_dist_plot = MC_10_years.plot_distribution()\n",
    "\n",
    "# Save the plot for future use\n",
    "MC_10_sim_dist_plot.get_figure().savefig('MC_10_years_dist_plot.png',bbox_inches='tight')\n"
   ]
  },
  {
   "cell_type": "code",
   "execution_count": 44,
   "metadata": {},
   "outputs": [
    {
     "name": "stdout",
     "output_type": "stream",
     "text": [
      "count           500.000000\n",
      "mean             15.997697\n",
      "std               5.456784\n",
      "min               5.849000\n",
      "25%              11.931495\n",
      "50%              15.337433\n",
      "75%              19.398605\n",
      "max              37.337001\n",
      "95% CI Lower      7.458408\n",
      "95% CI Upper     27.867375\n",
      "Name: 2520, dtype: float64\n"
     ]
    }
   ],
   "source": [
    "# Generate summary statistics from the 10-year Monte Carlo simulation results\n",
    "# Save the results as a variable\n",
    "MC_10_summary_statistics = MC_10_years.summarize_cumulative_return()\n",
    "\n",
    "# Review the 30-year Monte Carlo summary statistics\n",
    "print(MC_10_summary_statistics)"
   ]
  },
  {
   "cell_type": "markdown",
   "metadata": {},
   "source": [
    "### Answer the following questions:"
   ]
  },
  {
   "cell_type": "markdown",
   "metadata": {},
   "source": [
    "#### Question: Using the current value of only the stock and bond portion of the member's portfolio and the summary statistics that you generated from the new Monte Carlo simulation, what are the lower and upper bounds for the expected value of the portfolio (with the new weights) with a 95% confidence interval?"
   ]
  },
  {
   "cell_type": "code",
   "execution_count": 45,
   "metadata": {},
   "outputs": [
    {
     "name": "stdout",
     "output_type": "stream",
     "text": [
      "60689.5\n"
     ]
    }
   ],
   "source": [
    "# Print the current balance of the stock and bond portion of the members portfolio\n",
    "print(total_stocks_bonds)\n"
   ]
  },
  {
   "cell_type": "code",
   "execution_count": 46,
   "metadata": {},
   "outputs": [
    {
     "name": "stdout",
     "output_type": "stream",
     "text": [
      "There is a 95% chance that an initial investment of $60689.5 in the portfolio over the next 10 years will end within in the range of $ 452647.03 and $ 1691257.06.\n"
     ]
    }
   ],
   "source": [
    "# Use the lower and upper `95%` confidence intervals to calculate the range of the possible outcomes for the current stock/bond portfolio\n",
    "ci_lower_ten_cumulative_return = MC_10_summary_statistics[8] * total_stocks_bonds\n",
    "ci_upper_ten_cumulative_return = MC_10_summary_statistics[9] * total_stocks_bonds\n",
    "\n",
    "# Print the result of your calculations\n",
    "print(f\"There is a 95% chance that an initial investment of $60689.5 in the portfolio\"\n",
    "    f\" over the next 10 years will end within in the range of\"\n",
    "    f\" ${ci_lower_ten_cumulative_return: .2f} and ${ci_upper_ten_cumulative_return: .2f}.\")\n",
    "\n"
   ]
  },
  {
   "cell_type": "markdown",
   "metadata": {},
   "source": [
    "#### Question: Will weighting the portfolio more heavily to stocks allow the credit union members to retire after only 10 years?"
   ]
  },
  {
   "cell_type": "raw",
   "metadata": {},
   "source": [
    "**Answer** \n",
    "Lets summurise\n",
    "30 years:\n",
    "60% stock/ 40% bonds\n",
    "Mean=20.015972\n",
    "Std=6.534589\n",
    "There is a 95% chance profit falls withing the range of $ 557964.65 and $ 2222954.07.\n",
    "\n",
    "10 years:\n",
    "80% stock/20% bonds\n",
    "Mean=15.997697\n",
    "Std=5.456784\n",
    "There is a 95% chance profit falls within in the range of $ 452647.03 and $ 1691257.06.\n",
    "\n",
    "\n",
    "So we can see that in 30 years our retirement portfolio will give us 20-25% greater return than 10 yers portfolio, so if time is not an issue an extra half a million can be handy.\n",
    "However adjusting stock/bond ratio seems like not having much influence on risk, opposite, gives us better STD with just slightly smaller mean. So if our clients desire to retire faster and fine with slightly more modest returns, 10 years plan seems like a great alternative.\n",
    "In a real world scenario I would discuss with my clients their goal and desired retirement lifestyle and make a decision accordingly."
   ]
  },
  {
   "cell_type": "code",
   "execution_count": null,
   "metadata": {},
   "outputs": [],
   "source": []
  }
 ],
 "metadata": {
  "kernelspec": {
   "display_name": "dev",
   "language": "python",
   "name": "dev"
  },
  "language_info": {
   "codemirror_mode": {
    "name": "ipython",
    "version": 3
   },
   "file_extension": ".py",
   "mimetype": "text/x-python",
   "name": "python",
   "nbconvert_exporter": "python",
   "pygments_lexer": "ipython3",
   "version": "3.7.9"
  }
 },
 "nbformat": 4,
 "nbformat_minor": 4
}
